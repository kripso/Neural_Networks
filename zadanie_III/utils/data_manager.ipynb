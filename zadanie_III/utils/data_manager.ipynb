{
 "cells": [
  {
   "cell_type": "code",
   "execution_count": 1,
   "metadata": {},
   "outputs": [],
   "source": [
    "import urllib.parse\n",
    "import time\n",
    "import requests\n",
    "import pandas as pd\n",
    "import numpy as np\n",
    "import matplotlib.pyplot as plt\n",
    "import hmac\n",
    "import hashlib\n",
    "import base64\n",
    "from plotly import figure_factory\n",
    "from datetime import datetime\n",
    "from dataclasses import dataclass\n",
    "# import talib\n",
    "\n",
    "# Support Data Classes\n",
    "\n",
    "\n",
    "@dataclass\n",
    "class Intervals:\n",
    "    minute = 1\n",
    "    fiveMin = 5\n",
    "    fifteenMin = 15\n",
    "    halfHour = 30\n",
    "    hour = 60\n",
    "    fourHours = 240\n",
    "    day = 1440\n",
    "    week = 10080\n",
    "    halfMonth = 21600\n",
    "\n",
    "\n",
    "@dataclass\n",
    "class OrderTypes:\n",
    "    market = \"market\"\n",
    "    limit = \"limit\"\n",
    "    stop_loss = \"stop-loss\"\n",
    "    take_profit = \"take-profit\"\n",
    "    stop_loss_limit = \"stop-loss-limit\"\n",
    "    take_profit_limit = \"take-profit-limit\"\n",
    "    settle_position = \"settle-position\"\n",
    "\n",
    "\n",
    "@dataclass\n",
    "class Type:\n",
    "    buy = 'buy'\n",
    "    sell = 'sell'\n",
    "\n",
    "# UNIX TIME is from January 1st, 1970\n",
    "\n",
    "\n",
    "@dataclass\n",
    "class Months:\n",
    "    january: int = 1\n",
    "    february: int = 2\n",
    "    march: int = 3\n",
    "    april: int = 4\n",
    "    may: int = 5\n",
    "    june: int = 6\n",
    "    july: int = 7\n",
    "    august: int = 8\n",
    "    september: int = 9\n",
    "    october: int = 10\n",
    "    november: int = 11\n",
    "    december: int = 12\n",
    "\n",
    "# Get Trades\n",
    "\n",
    "\n",
    "@dataclass\n",
    "class Intervals:\n",
    "    minute = 1\n",
    "    fiveMin = 5\n",
    "    fifteenMin = 15\n",
    "    halfHour = 30\n",
    "    hour = 60\n",
    "    fourHours = 240\n",
    "    day = 1440\n",
    "    week = 10080\n",
    "    halfMonth = 21600\n"
   ]
  },
  {
   "cell_type": "markdown",
   "metadata": {},
   "source": [
    "# KRAKEN API"
   ]
  },
  {
   "cell_type": "code",
   "execution_count": 2,
   "metadata": {},
   "outputs": [],
   "source": [
    "def timeStampToTime(unixtime: int) -> str:\n",
    "    # print(time.ctime(unixtime))\n",
    "    # return time.ctime(unixtime)\n",
    "    return time.strftime(\"%H:%M\", time.gmtime(unixtime))\n",
    "\n",
    "\n",
    "def timeStampToDateTime(unixtime: int) -> datetime:\n",
    "    # print(time.ctime(unixtime))\n",
    "    # return time.ctime(unixtime)\n",
    "    return datetime.fromtimestamp(unixtime)\n",
    "\n",
    "\n",
    "def timeToTimeStamp(year: int, month: Months, day: int, hour: int, minute: int, second: int) -> int:\n",
    "    return int(datetime.timestamp(datetime(year=year, month=month, day=day, hour=hour, minute=minute, second=second)))\n",
    "\n",
    "\n",
    "def curentTime() -> None:\n",
    "    resp = requests.get('https://api.kraken.com/0/public/Time')\n",
    "    print(resp.json())\n"
   ]
  },
  {
   "cell_type": "code",
   "execution_count": 29,
   "metadata": {},
   "outputs": [],
   "source": [
    "def getOfflinePrices(interval=Intervals.fifteenMin, since = timeToTimeStamp(2017, 1, 1, 1, 0, 0), pair='XBTEUR') -> pd.DataFrame:\n",
    "    file = '../data/{}_{}.csv'.format(pair, interval)\n",
    "\n",
    "    df = pd.read_csv(file)\n",
    "    df.columns = ['time', 'open', 'high', 'low', 'close', 'volume', 'count']\n",
    "\n",
    "    for column in df.columns:\n",
    "        df[column] = pd.to_numeric(df[column])\n",
    "\n",
    "    dateTimeData = [timeStampToDateTime(data) for data in df.time]\n",
    "    df[\"dateTime\"] = dateTimeData\n",
    "    df = df.set_index(df.dateTime)\n",
    "\n",
    "    return df.loc[df['time'] > since]\n",
    "\n",
    "\n",
    "def nTimesLargerInterval(data: pd.DataFrame, interval: int = 3) -> pd.DataFrame:\n",
    "    dataArr = []\n",
    "\n",
    "    index = 0\n",
    "    for row in range(data.time.count()):\n",
    "        if data.time[row] % 3600 == 0:\n",
    "            index = row\n",
    "            break\n",
    "\n",
    "    for row in range(index, data.time.count(), interval):\n",
    "        firstRow = row\n",
    "        lastRow = (row + interval - 1) if (row + interval - 1) < data.time.count() else (data.time.count() - 1)\n",
    "\n",
    "        dataArr.append([\n",
    "            data.time[firstRow],\n",
    "            data.open[firstRow],\n",
    "            max(data.high[_row] for _row in range(row, lastRow + 1)),\n",
    "            -max((-data.low[_row]) for _row in range(row, lastRow + 1)),\n",
    "            data.close[lastRow],\n",
    "            # np.median([data.vwap[_row] for _row in range(row, lastRow + 1)]),\n",
    "            sum(data.volume[_row] for _row in range(row, lastRow + 1)),\n",
    "            sum(data['count'][_row] for _row in range(row, lastRow + 1)),\n",
    "            data.dateTime[firstRow]\n",
    "        ])\n",
    "\n",
    "    tmpDf = pd.DataFrame(list(map(np.ravel, dataArr)), columns=data.columns)\n",
    "    tmpDf.index = tmpDf.dateTime\n",
    "    return tmpDf\n"
   ]
  },
  {
   "cell_type": "markdown",
   "metadata": {},
   "source": [
    "# SMA"
   ]
  },
  {
   "cell_type": "code",
   "execution_count": 4,
   "metadata": {},
   "outputs": [],
   "source": [
    "# EMA = alpha * data[x] + (1 - alpha) * EMA[1], where alpha = 2 / (days[y] + 1)\n",
    "def _get_sma(data, length) -> int:\n",
    "    return sum(data[:length]) / length\n",
    "\n",
    "\n",
    "def get_sma(data: pd.DataFrame, length):\n",
    "    noneIndeces = data.size-data.count()\n",
    "    our_range = range(len(data))[noneIndeces + length - 1:]\n",
    "\n",
    "    sma = [np.mean(data[i - length + 1: i + 1]) for i in our_range]\n",
    "    return np.array([None for _ in range((length+noneIndeces)-1)] + sma)\n",
    "\n",
    "\n",
    "def get_DF_sma(data: pd.DataFrame, length) -> pd.DataFrame:\n",
    "    noneIndeces = data.size-data.count()\n",
    "    our_range = range(len(data))[noneIndeces + length - 1:]\n",
    "\n",
    "    sma = [np.mean(data[i - length + 1: i + 1]) for i in our_range]\n",
    "    sma = np.array([None for _ in range((length+noneIndeces)-1)] + sma)\n",
    "    return pd.DataFrame(sma, index=data.index.copy(), columns=['data'])\n"
   ]
  },
  {
   "cell_type": "markdown",
   "metadata": {},
   "source": [
    "# EMA"
   ]
  },
  {
   "cell_type": "code",
   "execution_count": 5,
   "metadata": {},
   "outputs": [],
   "source": [
    "def get_ema(data: pd.DataFrame, length, smoothing=2, com=None) -> list[int]:\n",
    "    noneIndeces = data.size-data.count()\n",
    "    ema = [None for _ in range((length+noneIndeces)-1)]\n",
    "    ema.append(_get_sma(data[noneIndeces:], length))\n",
    "\n",
    "    alpha = (smoothing / (1 + length))\n",
    "    if com:\n",
    "        alpha = 1/(com)\n",
    "\n",
    "    for price in data[length+noneIndeces:]:\n",
    "        ema.append((price * alpha) + ema[-1] * (1 - alpha))\n",
    "    return ema\n",
    "\n",
    "\n",
    "def get_DF_ema(data: pd.DataFrame, length, smoothing=2, com=None) -> pd.DataFrame:\n",
    "    noneIndeces = data.size-data.count()\n",
    "    ema = [None for _ in range((length+noneIndeces)-1)]\n",
    "    ema.append(_get_sma(data[noneIndeces:], length))\n",
    "\n",
    "    alpha = (smoothing / (1 + length))\n",
    "    if com:\n",
    "        alpha = 1/(com)\n",
    "\n",
    "    for price in data[length+noneIndeces:]:\n",
    "        ema.append((price * alpha) + ema[-1] * (1 - alpha))\n",
    "\n",
    "    return pd.DataFrame(ema, index=data.index.copy(), columns=['data'])\n"
   ]
  },
  {
   "cell_type": "markdown",
   "metadata": {},
   "source": [
    "# MACD"
   ]
  },
  {
   "cell_type": "code",
   "execution_count": 6,
   "metadata": {},
   "outputs": [],
   "source": [
    "def get_macd(data, fastperiod=12, slowperiod=26, signalperiod=9) -> list[pd.DataFrame, pd.DataFrame]:\n",
    "    fastEma = pd.DataFrame(get_ema(data, fastperiod), index=data.index.copy(), columns=['data'])\n",
    "    slowEma = pd.DataFrame(get_ema(data, slowperiod), index=data.index.copy(), columns=['data'])\n",
    "\n",
    "    macd = fastEma - slowEma\n",
    "\n",
    "    macdsignal = pd.DataFrame(get_ema(macd.data, signalperiod), index=data.index.copy(), columns=['data'])\n",
    "    return (macd, macdsignal)\n",
    "\n",
    "@dataclass\n",
    "class PriceStates:\n",
    "    hold = 'hold'\n",
    "    rising = 'rising'\n",
    "    falling = 'falling'\n",
    "    risingPullBack = 'risingPullBack'\n",
    "    fallingPullBack = 'fallingPullBack'\n",
    "\n",
    "def get_macd_divergence(signal,prices) -> None:\n",
    "    extreme = {'low':0,'high':0}\n",
    "\n",
    "    # priceStates = {'rising': False,'falling': False}\n",
    "    priceState = PriceStates.hold\n",
    "\n",
    "    for (index,price) in enumerate(prices[1:]):\n",
    "        if price > prices[index]:\n",
    "            # extreme['high'] = price\n",
    "\n",
    "            if priceState == PriceStates.falling:\n",
    "                priceState = PriceStates.rising\n",
    "                # check divergence\n",
    "        if price < prices[index]:\n",
    "            # extreme['low'] = price\n",
    "\n",
    "            if priceState == PriceStates.rising:\n",
    "                priceState = PriceStates.falling\n"
   ]
  },
  {
   "cell_type": "markdown",
   "metadata": {},
   "source": [
    "# HMA"
   ]
  },
  {
   "cell_type": "code",
   "execution_count": 7,
   "metadata": {},
   "outputs": [],
   "source": [
    "def get_hma(data: pd.DataFrame, length) -> list[int]:\n",
    "    noneIndeces = data.size-data.count()\n",
    "\n",
    "    sma1 = get_DF_sma(data[noneIndeces:], length)\n",
    "    sma2 = get_DF_sma(data[noneIndeces:], int(length/2))\n",
    "    sma_diff = 2 * sma2 - sma1\n",
    "\n",
    "    return get_DF_sma(sma_diff.data, int(np.sqrt(length)))\n"
   ]
  },
  {
   "cell_type": "markdown",
   "metadata": {},
   "source": [
    "# RSI"
   ]
  },
  {
   "cell_type": "code",
   "execution_count": 8,
   "metadata": {},
   "outputs": [],
   "source": [
    "# def get_rsi(df, lenght = 14, ema = True):\n",
    "#     \"\"\"\n",
    "#     Returns a pd.Series with the relative strength index.\n",
    "#     \"\"\"\n",
    "#     close_delta = df['close'].diff()\n",
    "#     # Make two series: one for lower closes and one for higher closes\n",
    "\n",
    "#     up = pd.DataFrame(close_delta.clip(lower=0))\n",
    "#     down = pd.DataFrame(-1 * close_delta.clip(upper=0).replace(-0,0))\n",
    "\n",
    "#     if ema is True:\n",
    "# \t    # Use exponential moving average\n",
    "#         ma_up = numpy_ewma_vectorized(up.close,lenght,com = lenght - 1)\n",
    "#         ma_down = numpy_ewma_vectorized(down.close,lenght,com = lenght - 1)\n",
    "#     else:\n",
    "#         # Use simple moving average\n",
    "#         ma_up = get_DF_sma(up,lenght)\n",
    "#         ma_down = get_DF_sma(down,lenght)\n",
    "\n",
    "#     rsi = abs(ma_up / ma_down)\n",
    "#     rsi = 100 - (100/(1 + rsi))\n",
    "#     return rsi,ma_up,ma_down\n",
    "\n",
    "def get_rsi2(df, lenght=14, ema=True):\n",
    "    \"\"\"\n",
    "    Returns a pd.Series with the relative strength index.\n",
    "    \"\"\"\n",
    "    close_delta = df['close'].diff()\n",
    "\n",
    "    # Make two series: one for lower closes and one for higher closes\n",
    "    up = close_delta.clip(lower=0)\n",
    "    down = -1 * close_delta.clip(upper=0)\n",
    "\n",
    "    if ema is True:\n",
    "        # Use exponential moving average\n",
    "        ma_up = up.ewm(com=lenght - 1, min_periods=lenght).mean()\n",
    "        ma_down = down.ewm(com=lenght - 1, min_periods=lenght).mean()\n",
    "    else:\n",
    "        # Use simple moving average\n",
    "        ma_up = up.rolling(window=lenght, adjust=False).mean()\n",
    "        ma_down = down.rolling(window=lenght, adjust=False).mean()\n",
    "\n",
    "    rsi = ma_up / ma_down\n",
    "    rsi = 100 - (100/(1 + rsi))\n",
    "    return rsi, ma_up, ma_down\n"
   ]
  },
  {
   "cell_type": "markdown",
   "metadata": {},
   "source": [
    "# Plots and Tests"
   ]
  },
  {
   "cell_type": "code",
   "execution_count": 10,
   "metadata": {},
   "outputs": [
    {
     "data": {
      "image/png": "[encoded data removed]",
      "text/plain": [
       "<Figure size 1728x720 with 1 Axes>"
      ]
     },
     "metadata": {
      "needs_background": "light"
     },
     "output_type": "display_data"
    }
   ],
   "source": [
    "df = getOfflinePrices(interval=Intervals.fifteenMin)\n",
    "\n",
    "# rsi1,up1,down1 = get_rsi(df,lenght=12)\n",
    "rsi2, up2, down2 = get_rsi2(df, lenght=12)\n",
    "# rsi1.loc['2021-09-15 04:00:00']\n",
    "plt.figure(figsize=[24, 10])\n",
    "plt.xlabel('Time')\n",
    "plt.ylabel('Price')\n",
    "# plt.plot(rsi1[:100], label='rsi1')\n",
    "plt.plot(rsi2[:100], label='rsi2')\n",
    "plt.axhline(y=50, color='black', linestyle='--')\n",
    "plt.axhline(y=70, color='green', linestyle='--')\n",
    "plt.axhline(y=30, color='red', linestyle='--')\n",
    "# plt.plot(macdsignal, label='signal')\n",
    "# plt.plot(np.arange(250-15, df.shape[0]+1),df2.close.tail(16),label='5min')\n",
    "plt.legend()\n",
    "plt.show()\n"
   ]
  },
  {
   "cell_type": "code",
   "execution_count": 13,
   "metadata": {},
   "outputs": [
    {
     "data": {
      "application/vnd.plotly.v1+json": {
       "config": {
        "plotlyServerURL": "https://plot.ly"
       },
       "data": [
        {
         "boxpoints": false,
         "fillcolor": "#3D9970",
         "line": {
          "color": "#3D9970"
         },
         "name": "Increasing",
         "showlegend": false,
         "type": "box",
         "whiskerwidth": 0,
         "x": [
          "2022-03-31T19:00:00",
          "2022-03-31T19:00:00",
          "2022-03-31T19:00:00",
          "2022-03-31T19:00:00",
          "2022-03-31T19:00:00",
          "2022-03-31T19:00:00",
          "2022-03-31T19:30:00",
          "2022-03-31T19:30:00",
          "2022-03-31T19:30:00",
          "2022-03-31T19:30:00",
          "2022-03-31T19:30:00",
          "2022-03-31T19:30:00",
          "2022-03-31T19:45:00",
          "2022-03-31T19:45:00",
          "2022-03-31T19:45:00",
          "2022-03-31T19:45:00",
          "2022-03-31T19:45:00",
          "2022-03-31T19:45:00",
          "2022-03-31T20:15:00",
          "2022-03-31T20:15:00",
          "2022-03-31T20:15:00",
          "2022-03-31T20:15:00",
          "2022-03-31T20:15:00",
          "2022-03-31T20:15:00",
          "2022-03-31T20:30:00",
          "2022-03-31T20:30:00",
          "2022-03-31T20:30:00",
          "2022-03-31T20:30:00",
          "2022-03-31T20:30:00",
          "2022-03-31T20:30:00",
          "2022-03-31T20:45:00",
          "2022-03-31T20:45:00",
          "2022-03-31T20:45:00",
          "2022-03-31T20:45:00",
          "2022-03-31T20:45:00",
          "2022-03-31T20:45:00",
          "2022-03-31T22:00:00",
          "2022-03-31T22:00:00",
          "2022-03-31T22:00:00",
          "2022-03-31T22:00:00",
          "2022-03-31T22:00:00",
          "2022-03-31T22:00:00",
          "2022-03-31T22:15:00",
          "2022-03-31T22:15:00",
          "2022-03-31T22:15:00",
          "2022-03-31T22:15:00",
          "2022-03-31T22:15:00",
          "2022-03-31T22:15:00",
          "2022-03-31T22:30:00",
          "2022-03-31T22:30:00",
          "2022-03-31T22:30:00",
          "2022-03-31T22:30:00",
          "2022-03-31T22:30:00",
          "2022-03-31T22:30:00",
          "2022-03-31T22:45:00",
          "2022-03-31T22:45:00",
          "2022-03-31T22:45:00",
          "2022-03-31T22:45:00",
          "2022-03-31T22:45:00",
          "2022-03-31T22:45:00",
          "2022-03-31T23:15:00",
          "2022-03-31T23:15:00",
          "2022-03-31T23:15:00",
          "2022-03-31T23:15:00",
          "2022-03-31T23:15:00",
          "2022-03-31T23:15:00",
          "2022-03-31T23:45:00",
          "2022-03-31T23:45:00",
          "2022-03-31T23:45:00",
          "2022-03-31T23:45:00",
          "2022-03-31T23:45:00",
          "2022-03-31T23:45:00",
          "2022-04-01T00:15:00",
          "2022-04-01T00:15:00",
          "2022-04-01T00:15:00",
          "2022-04-01T00:15:00",
          "2022-04-01T00:15:00",
          "2022-04-01T00:15:00",
          "2022-04-01T00:45:00",
          "2022-04-01T00:45:00",
          "2022-04-01T00:45:00",
          "2022-04-01T00:45:00",
          "2022-04-01T00:45:00",
          "2022-04-01T00:45:00",
          "2022-04-01T01:45:00",
          "2022-04-01T01:45:00",
          "2022-04-01T01:45:00",
          "2022-04-01T01:45:00",
          "2022-04-01T01:45:00",
          "2022-04-01T01:45:00"
         ],
         "y": [
          41200,
          41214.9,
          41268.5,
          41268.5,
          41268.5,
          41340,
          41230.9,
          41230.9,
          41309.5,
          41309.5,
          41309.5,
          41350,
          41300.7,
          41316.1,
          41350.1,
          41350.1,
          41350.1,
          41391.2,
          41200,
          41264.9,
          41424.1,
          41424.1,
          41424.1,
          41441.5,
          41393.7,
          41423.2,
          41490,
          41490,
          41490,
          41525.5,
          41470,
          41502.4,
          41523.3,
          41523.3,
          41523.3,
          41523.3,
          41139.7,
          41219.1,
          41278.9,
          41278.9,
          41278.9,
          41278.9,
          41240,
          41273.4,
          41276.7,
          41276.7,
          41276.7,
          41333.3,
          41247.5,
          41276.7,
          41342.3,
          41342.3,
          41342.3,
          41357.8,
          41301.7,
          41342.4,
          41350.1,
          41350.1,
          41350.1,
          41386.4,
          41300,
          41331.6,
          41445.1,
          41445.1,
          41445.1,
          41445.1,
          41348.3,
          41348.3,
          41361.1,
          41361.1,
          41361.1,
          41415.8,
          41290,
          41344.8,
          41366,
          41366,
          41366,
          41366,
          41300,
          41300,
          41350.6,
          41350.6,
          41350.6,
          41392.7,
          40862,
          41051.3,
          41095.8,
          41095.8,
          41095.8,
          41137.5
         ]
        },
        {
         "boxpoints": false,
         "fillcolor": "#FF4136",
         "line": {
          "color": "#FF4136"
         },
         "name": "Decreasing",
         "showlegend": false,
         "type": "box",
         "whiskerwidth": 0,
         "x": [
          "2022-03-31T18:30:00",
          "2022-03-31T18:30:00",
          "2022-03-31T18:30:00",
          "2022-03-31T18:30:00",
          "2022-03-31T18:30:00",
          "2022-03-31T18:30:00",
          "2022-03-31T18:45:00",
          "2022-03-31T18:45:00",
          "2022-03-31T18:45:00",
          "2022-03-31T18:45:00",
          "2022-03-31T18:45:00",
          "2022-03-31T18:45:00",
          "2022-03-31T19:15:00",
          "2022-03-31T19:15:00",
          "2022-03-31T19:15:00",
          "2022-03-31T19:15:00",
          "2022-03-31T19:15:00",
          "2022-03-31T19:15:00",
          "2022-03-31T20:00:00",
          "2022-03-31T20:00:00",
          "2022-03-31T20:00:00",
          "2022-03-31T20:00:00",
          "2022-03-31T20:00:00",
          "2022-03-31T20:00:00",
          "2022-03-31T21:00:00",
          "2022-03-31T21:00:00",
          "2022-03-31T21:00:00",
          "2022-03-31T21:00:00",
          "2022-03-31T21:00:00",
          "2022-03-31T21:00:00",
          "2022-03-31T21:15:00",
          "2022-03-31T21:15:00",
          "2022-03-31T21:15:00",
          "2022-03-31T21:15:00",
          "2022-03-31T21:15:00",
          "2022-03-31T21:15:00",
          "2022-03-31T21:30:00",
          "2022-03-31T21:30:00",
          "2022-03-31T21:30:00",
          "2022-03-31T21:30:00",
          "2022-03-31T21:30:00",
          "2022-03-31T21:30:00",
          "2022-03-31T21:45:00",
          "2022-03-31T21:45:00",
          "2022-03-31T21:45:00",
          "2022-03-31T21:45:00",
          "2022-03-31T21:45:00",
          "2022-03-31T21:45:00",
          "2022-03-31T23:00:00",
          "2022-03-31T23:00:00",
          "2022-03-31T23:00:00",
          "2022-03-31T23:00:00",
          "2022-03-31T23:00:00",
          "2022-03-31T23:00:00",
          "2022-03-31T23:30:00",
          "2022-03-31T23:30:00",
          "2022-03-31T23:30:00",
          "2022-03-31T23:30:00",
          "2022-03-31T23:30:00",
          "2022-03-31T23:30:00",
          "2022-04-01T00:00:00",
          "2022-04-01T00:00:00",
          "2022-04-01T00:00:00",
          "2022-04-01T00:00:00",
          "2022-04-01T00:00:00",
          "2022-04-01T00:00:00",
          "2022-04-01T00:30:00",
          "2022-04-01T00:30:00",
          "2022-04-01T00:30:00",
          "2022-04-01T00:30:00",
          "2022-04-01T00:30:00",
          "2022-04-01T00:30:00",
          "2022-04-01T01:00:00",
          "2022-04-01T01:00:00",
          "2022-04-01T01:00:00",
          "2022-04-01T01:00:00",
          "2022-04-01T01:00:00",
          "2022-04-01T01:00:00",
          "2022-04-01T01:15:00",
          "2022-04-01T01:15:00",
          "2022-04-01T01:15:00",
          "2022-04-01T01:15:00",
          "2022-04-01T01:15:00",
          "2022-04-01T01:15:00",
          "2022-04-01T01:30:00",
          "2022-04-01T01:30:00",
          "2022-04-01T01:30:00",
          "2022-04-01T01:30:00",
          "2022-04-01T01:30:00",
          "2022-04-01T01:30:00"
         ],
         "y": [
          41227.7,
          41465.5,
          41422.6,
          41422.6,
          41422.6,
          41503.9,
          41212,
          41429.7,
          41224.8,
          41224.8,
          41224.8,
          41431.4,
          41182.7,
          41268.5,
          41228.8,
          41228.8,
          41228.8,
          41323.6,
          41250.4,
          41350.1,
          41264.9,
          41264.9,
          41264.9,
          41350.1,
          41401.6,
          41524.3,
          41421.4,
          41421.4,
          41421.4,
          41549.4,
          41282.8,
          41421.6,
          41284.9,
          41284.9,
          41284.9,
          41430.8,
          41200.1,
          41279.1,
          41220.1,
          41220.1,
          41220.1,
          41368.1,
          41120.2,
          41220,
          41219,
          41219,
          41219,
          41289.1,
          41316.8,
          41350.1,
          41330.7,
          41330.7,
          41330.7,
          41385.5,
          41328.5,
          41444.5,
          41372.8,
          41372.8,
          41372.8,
          41444.5,
          41322.2,
          41356.4,
          41344.8,
          41344.8,
          41344.8,
          41396.1,
          41300,
          41365.9,
          41300,
          41300,
          41300,
          41377.9,
          41257.8,
          41350.7,
          41279.7,
          41279.7,
          41279.7,
          41350.7,
          41225.7,
          41278.4,
          41272.6,
          41272.6,
          41272.6,
          41278.4,
          41050,
          41271.1,
          41050,
          41050,
          41050,
          41277.4
         ]
        }
       ],
       "layout": {
        "template": {
         "data": {
          "bar": [
           {
            "error_x": {
             "color": "#2a3f5f"
            },
            "error_y": {
             "color": "#2a3f5f"
            },
            "marker": {
             "line": {
              "color": "#E5ECF6",
              "width": 0.5
             },
             "pattern": {
              "fillmode": "overlay",
              "size": 10,
              "solidity": 0.2
             }
            },
            "type": "bar"
           }
          ],
          "barpolar": [
           {
            "marker": {
             "line": {
              "color": "#E5ECF6",
              "width": 0.5
             },
             "pattern": {
              "fillmode": "overlay",
              "size": 10,
              "solidity": 0.2
             }
            },
            "type": "barpolar"
           }
          ],
          "carpet": [
           {
            "aaxis": {
             "endlinecolor": "#2a3f5f",
             "gridcolor": "white",
             "linecolor": "white",
             "minorgridcolor": "white",
             "startlinecolor": "#2a3f5f"
            },
            "baxis": {
             "endlinecolor": "#2a3f5f",
             "gridcolor": "white",
             "linecolor": "white",
             "minorgridcolor": "white",
             "startlinecolor": "#2a3f5f"
            },
            "type": "carpet"
           }
          ],
          "choropleth": [
           {
            "colorbar": {
             "outlinewidth": 0,
             "ticks": ""
            },
            "type": "choropleth"
           }
          ],
          "contour": [
           {
            "colorbar": {
             "outlinewidth": 0,
             "ticks": ""
            },
            "colorscale": [
             [
              0,
              "#0d0887"
             ],
             [
              0.1111111111111111,
              "#46039f"
             ],
             [
              0.2222222222222222,
              "#7201a8"
             ],
             [
              0.3333333333333333,
              "#9c179e"
             ],
             [
              0.4444444444444444,
              "#bd3786"
             ],
             [
              0.5555555555555556,
              "#d8576b"
             ],
             [
              0.6666666666666666,
              "#ed7953"
             ],
             [
              0.7777777777777778,
              "#fb9f3a"
             ],
             [
              0.8888888888888888,
              "#fdca26"
             ],
             [
              1,
              "#f0f921"
             ]
            ],
            "type": "contour"
           }
          ],
          "contourcarpet": [
           {
            "colorbar": {
             "outlinewidth": 0,
             "ticks": ""
            },
            "type": "contourcarpet"
           }
          ],
          "heatmap": [
           {
            "colorbar": {
             "outlinewidth": 0,
             "ticks": ""
            },
            "colorscale": [
             [
              0,
              "#0d0887"
             ],
             [
              0.1111111111111111,
              "#46039f"
             ],
             [
              0.2222222222222222,
              "#7201a8"
             ],
             [
              0.3333333333333333,
              "#9c179e"
             ],
             [
              0.4444444444444444,
              "#bd3786"
             ],
             [
              0.5555555555555556,
              "#d8576b"
             ],
             [
              0.6666666666666666,
              "#ed7953"
             ],
             [
              0.7777777777777778,
              "#fb9f3a"
             ],
             [
              0.8888888888888888,
              "#fdca26"
             ],
             [
              1,
              "#f0f921"
             ]
            ],
            "type": "heatmap"
           }
          ],
          "heatmapgl": [
           {
            "colorbar": {
             "outlinewidth": 0,
             "ticks": ""
            },
            "colorscale": [
             [
              0,
              "#0d0887"
             ],
             [
              0.1111111111111111,
              "#46039f"
             ],
             [
              0.2222222222222222,
              "#7201a8"
             ],
             [
              0.3333333333333333,
              "#9c179e"
             ],
             [
              0.4444444444444444,
              "#bd3786"
             ],
             [
              0.5555555555555556,
              "#d8576b"
             ],
             [
              0.6666666666666666,
              "#ed7953"
             ],
             [
              0.7777777777777778,
              "#fb9f3a"
             ],
             [
              0.8888888888888888,
              "#fdca26"
             ],
             [
              1,
              "#f0f921"
             ]
            ],
            "type": "heatmapgl"
           }
          ],
          "histogram": [
           {
            "marker": {
             "pattern": {
              "fillmode": "overlay",
              "size": 10,
              "solidity": 0.2
             }
            },
            "type": "histogram"
           }
          ],
          "histogram2d": [
           {
            "colorbar": {
             "outlinewidth": 0,
             "ticks": ""
            },
            "colorscale": [
             [
              0,
              "#0d0887"
             ],
             [
              0.1111111111111111,
              "#46039f"
             ],
             [
              0.2222222222222222,
              "#7201a8"
             ],
             [
              0.3333333333333333,
              "#9c179e"
             ],
             [
              0.4444444444444444,
              "#bd3786"
             ],
             [
              0.5555555555555556,
              "#d8576b"
             ],
             [
              0.6666666666666666,
              "#ed7953"
             ],
             [
              0.7777777777777778,
              "#fb9f3a"
             ],
             [
              0.8888888888888888,
              "#fdca26"
             ],
             [
              1,
              "#f0f921"
             ]
            ],
            "type": "histogram2d"
           }
          ],
          "histogram2dcontour": [
           {
            "colorbar": {
             "outlinewidth": 0,
             "ticks": ""
            },
            "colorscale": [
             [
              0,
              "#0d0887"
             ],
             [
              0.1111111111111111,
              "#46039f"
             ],
             [
              0.2222222222222222,
              "#7201a8"
             ],
             [
              0.3333333333333333,
              "#9c179e"
             ],
             [
              0.4444444444444444,
              "#bd3786"
             ],
             [
              0.5555555555555556,
              "#d8576b"
             ],
             [
              0.6666666666666666,
              "#ed7953"
             ],
             [
              0.7777777777777778,
              "#fb9f3a"
             ],
             [
              0.8888888888888888,
              "#fdca26"
             ],
             [
              1,
              "#f0f921"
             ]
            ],
            "type": "histogram2dcontour"
           }
          ],
          "mesh3d": [
           {
            "colorbar": {
             "outlinewidth": 0,
             "ticks": ""
            },
            "type": "mesh3d"
           }
          ],
          "parcoords": [
           {
            "line": {
             "colorbar": {
              "outlinewidth": 0,
              "ticks": ""
             }
            },
            "type": "parcoords"
           }
          ],
          "pie": [
           {
            "automargin": true,
            "type": "pie"
           }
          ],
          "scatter": [
           {
            "marker": {
             "colorbar": {
              "outlinewidth": 0,
              "ticks": ""
             }
            },
            "type": "scatter"
           }
          ],
          "scatter3d": [
           {
            "line": {
             "colorbar": {
              "outlinewidth": 0,
              "ticks": ""
             }
            },
            "marker": {
             "colorbar": {
              "outlinewidth": 0,
              "ticks": ""
             }
            },
            "type": "scatter3d"
           }
          ],
          "scattercarpet": [
           {
            "marker": {
             "colorbar": {
              "outlinewidth": 0,
              "ticks": ""
             }
            },
            "type": "scattercarpet"
           }
          ],
          "scattergeo": [
           {
            "marker": {
             "colorbar": {
              "outlinewidth": 0,
              "ticks": ""
             }
            },
            "type": "scattergeo"
           }
          ],
          "scattergl": [
           {
            "marker": {
             "colorbar": {
              "outlinewidth": 0,
              "ticks": ""
             }
            },
            "type": "scattergl"
           }
          ],
          "scattermapbox": [
           {
            "marker": {
             "colorbar": {
              "outlinewidth": 0,
              "ticks": ""
             }
            },
            "type": "scattermapbox"
           }
          ],
          "scatterpolar": [
           {
            "marker": {
             "colorbar": {
              "outlinewidth": 0,
              "ticks": ""
             }
            },
            "type": "scatterpolar"
           }
          ],
          "scatterpolargl": [
           {
            "marker": {
             "colorbar": {
              "outlinewidth": 0,
              "ticks": ""
             }
            },
            "type": "scatterpolargl"
           }
          ],
          "scatterternary": [
           {
            "marker": {
             "colorbar": {
              "outlinewidth": 0,
              "ticks": ""
             }
            },
            "type": "scatterternary"
           }
          ],
          "surface": [
           {
            "colorbar": {
             "outlinewidth": 0,
             "ticks": ""
            },
            "colorscale": [
             [
              0,
              "#0d0887"
             ],
             [
              0.1111111111111111,
              "#46039f"
             ],
             [
              0.2222222222222222,
              "#7201a8"
             ],
             [
              0.3333333333333333,
              "#9c179e"
             ],
             [
              0.4444444444444444,
              "#bd3786"
             ],
             [
              0.5555555555555556,
              "#d8576b"
             ],
             [
              0.6666666666666666,
              "#ed7953"
             ],
             [
              0.7777777777777778,
              "#fb9f3a"
             ],
             [
              0.8888888888888888,
              "#fdca26"
             ],
             [
              1,
              "#f0f921"
             ]
            ],
            "type": "surface"
           }
          ],
          "table": [
           {
            "cells": {
             "fill": {
              "color": "#EBF0F8"
             },
             "line": {
              "color": "white"
             }
            },
            "header": {
             "fill": {
              "color": "#C8D4E3"
             },
             "line": {
              "color": "white"
             }
            },
            "type": "table"
           }
          ]
         },
         "layout": {
          "annotationdefaults": {
           "arrowcolor": "#2a3f5f",
           "arrowhead": 0,
           "arrowwidth": 1
          },
          "autotypenumbers": "strict",
          "coloraxis": {
           "colorbar": {
            "outlinewidth": 0,
            "ticks": ""
           }
          },
          "colorscale": {
           "diverging": [
            [
             0,
             "#8e0152"
            ],
            [
             0.1,
             "#c51b7d"
            ],
            [
             0.2,
             "#de77ae"
            ],
            [
             0.3,
             "#f1b6da"
            ],
            [
             0.4,
             "#fde0ef"
            ],
            [
             0.5,
             "#f7f7f7"
            ],
            [
             0.6,
             "#e6f5d0"
            ],
            [
             0.7,
             "#b8e186"
            ],
            [
             0.8,
             "#7fbc41"
            ],
            [
             0.9,
             "#4d9221"
            ],
            [
             1,
             "#276419"
            ]
           ],
           "sequential": [
            [
             0,
             "#0d0887"
            ],
            [
             0.1111111111111111,
             "#46039f"
            ],
            [
             0.2222222222222222,
             "#7201a8"
            ],
            [
             0.3333333333333333,
             "#9c179e"
            ],
            [
             0.4444444444444444,
             "#bd3786"
            ],
            [
             0.5555555555555556,
             "#d8576b"
            ],
            [
             0.6666666666666666,
             "#ed7953"
            ],
            [
             0.7777777777777778,
             "#fb9f3a"
            ],
            [
             0.8888888888888888,
             "#fdca26"
            ],
            [
             1,
             "#f0f921"
            ]
           ],
           "sequentialminus": [
            [
             0,
             "#0d0887"
            ],
            [
             0.1111111111111111,
             "#46039f"
            ],
            [
             0.2222222222222222,
             "#7201a8"
            ],
            [
             0.3333333333333333,
             "#9c179e"
            ],
            [
             0.4444444444444444,
             "#bd3786"
            ],
            [
             0.5555555555555556,
             "#d8576b"
            ],
            [
             0.6666666666666666,
             "#ed7953"
            ],
            [
             0.7777777777777778,
             "#fb9f3a"
            ],
            [
             0.8888888888888888,
             "#fdca26"
            ],
            [
             1,
             "#f0f921"
            ]
           ]
          },
          "colorway": [
           "#636efa",
           "#EF553B",
           "#00cc96",
           "#ab63fa",
           "#FFA15A",
           "#19d3f3",
           "#FF6692",
           "#B6E880",
           "#FF97FF",
           "#FECB52"
          ],
          "font": {
           "color": "#2a3f5f"
          },
          "geo": {
           "bgcolor": "white",
           "lakecolor": "white",
           "landcolor": "#E5ECF6",
           "showlakes": true,
           "showland": true,
           "subunitcolor": "white"
          },
          "hoverlabel": {
           "align": "left"
          },
          "hovermode": "closest",
          "mapbox": {
           "style": "light"
          },
          "paper_bgcolor": "white",
          "plot_bgcolor": "#E5ECF6",
          "polar": {
           "angularaxis": {
            "gridcolor": "white",
            "linecolor": "white",
            "ticks": ""
           },
           "bgcolor": "#E5ECF6",
           "radialaxis": {
            "gridcolor": "white",
            "linecolor": "white",
            "ticks": ""
           }
          },
          "scene": {
           "xaxis": {
            "backgroundcolor": "#E5ECF6",
            "gridcolor": "white",
            "gridwidth": 2,
            "linecolor": "white",
            "showbackground": true,
            "ticks": "",
            "zerolinecolor": "white"
           },
           "yaxis": {
            "backgroundcolor": "#E5ECF6",
            "gridcolor": "white",
            "gridwidth": 2,
            "linecolor": "white",
            "showbackground": true,
            "ticks": "",
            "zerolinecolor": "white"
           },
           "zaxis": {
            "backgroundcolor": "#E5ECF6",
            "gridcolor": "white",
            "gridwidth": 2,
            "linecolor": "white",
            "showbackground": true,
            "ticks": "",
            "zerolinecolor": "white"
           }
          },
          "shapedefaults": {
           "line": {
            "color": "#2a3f5f"
           }
          },
          "ternary": {
           "aaxis": {
            "gridcolor": "white",
            "linecolor": "white",
            "ticks": ""
           },
           "baxis": {
            "gridcolor": "white",
            "linecolor": "white",
            "ticks": ""
           },
           "bgcolor": "#E5ECF6",
           "caxis": {
            "gridcolor": "white",
            "linecolor": "white",
            "ticks": ""
           }
          },
          "title": {
           "x": 0.05
          },
          "xaxis": {
           "automargin": true,
           "gridcolor": "white",
           "linecolor": "white",
           "ticks": "",
           "title": {
            "standoff": 15
           },
           "zerolinecolor": "white",
           "zerolinewidth": 2
          },
          "yaxis": {
           "automargin": true,
           "gridcolor": "white",
           "linecolor": "white",
           "ticks": "",
           "title": {
            "standoff": 15
           },
           "zerolinecolor": "white",
           "zerolinewidth": 2
          }
         }
        }
       }
      }
     },
     "metadata": {},
     "output_type": "display_data"
    }
   ],
   "source": [
    "# Fifteen minute candlestick plot\n",
    "fifteenMinDF = getOfflinePrices().tail(30)\n",
    "fig = figure_factory.create_candlestick(fifteenMinDF.open, fifteenMinDF.high, fifteenMinDF.low, fifteenMinDF.close, dates=fifteenMinDF.dateTime)\n",
    "fig.show()\n"
   ]
  },
  {
   "cell_type": "code",
   "execution_count": 34,
   "metadata": {},
   "outputs": [
    {
     "data": {
      "application/vnd.plotly.v1+json": {
       "config": {
        "plotlyServerURL": "https://plot.ly"
       },
       "data": [
        {
         "boxpoints": false,
         "fillcolor": "#3D9970",
         "line": {
          "color": "#3D9970"
         },
         "name": "Increasing",
         "showlegend": false,
         "type": "box",
         "whiskerwidth": 0,
         "x": [
          "2022-03-30T01:00:00",
          "2022-03-30T01:00:00",
          "2022-03-30T01:00:00",
          "2022-03-30T01:00:00",
          "2022-03-30T01:00:00",
          "2022-03-30T01:00:00",
          "2022-03-30T01:30:00",
          "2022-03-30T01:30:00",
          "2022-03-30T01:30:00",
          "2022-03-30T01:30:00",
          "2022-03-30T01:30:00",
          "2022-03-30T01:30:00",
          "2022-03-30T04:00:00",
          "2022-03-30T04:00:00",
          "2022-03-30T04:00:00",
          "2022-03-30T04:00:00",
          "2022-03-30T04:00:00",
          "2022-03-30T04:00:00",
          "2022-03-30T04:30:00",
          "2022-03-30T04:30:00",
          "2022-03-30T04:30:00",
          "2022-03-30T04:30:00",
          "2022-03-30T04:30:00",
          "2022-03-30T04:30:00",
          "2022-03-30T05:00:00",
          "2022-03-30T05:00:00",
          "2022-03-30T05:00:00",
          "2022-03-30T05:00:00",
          "2022-03-30T05:00:00",
          "2022-03-30T05:00:00",
          "2022-03-30T05:30:00",
          "2022-03-30T05:30:00",
          "2022-03-30T05:30:00",
          "2022-03-30T05:30:00",
          "2022-03-30T05:30:00",
          "2022-03-30T05:30:00",
          "2022-03-30T07:00:00",
          "2022-03-30T07:00:00",
          "2022-03-30T07:00:00",
          "2022-03-30T07:00:00",
          "2022-03-30T07:00:00",
          "2022-03-30T07:00:00",
          "2022-03-30T08:00:00",
          "2022-03-30T08:00:00",
          "2022-03-30T08:00:00",
          "2022-03-30T08:00:00",
          "2022-03-30T08:00:00",
          "2022-03-30T08:00:00",
          "2022-03-30T09:00:00",
          "2022-03-30T09:00:00",
          "2022-03-30T09:00:00",
          "2022-03-30T09:00:00",
          "2022-03-30T09:00:00",
          "2022-03-30T09:00:00",
          "2022-03-30T12:00:00",
          "2022-03-30T12:00:00",
          "2022-03-30T12:00:00",
          "2022-03-30T12:00:00",
          "2022-03-30T12:00:00",
          "2022-03-30T12:00:00",
          "2022-03-30T12:30:00",
          "2022-03-30T12:30:00",
          "2022-03-30T12:30:00",
          "2022-03-30T12:30:00",
          "2022-03-30T12:30:00",
          "2022-03-30T12:30:00",
          "2022-03-30T13:00:00",
          "2022-03-30T13:00:00",
          "2022-03-30T13:00:00",
          "2022-03-30T13:00:00",
          "2022-03-30T13:00:00",
          "2022-03-30T13:00:00",
          "2022-03-30T14:30:00",
          "2022-03-30T14:30:00",
          "2022-03-30T14:30:00",
          "2022-03-30T14:30:00",
          "2022-03-30T14:30:00",
          "2022-03-30T14:30:00",
          "2022-03-30T16:00:00",
          "2022-03-30T16:00:00",
          "2022-03-30T16:00:00",
          "2022-03-30T16:00:00",
          "2022-03-30T16:00:00",
          "2022-03-30T16:00:00",
          "2022-03-30T17:30:00",
          "2022-03-30T17:30:00",
          "2022-03-30T17:30:00",
          "2022-03-30T17:30:00",
          "2022-03-30T17:30:00",
          "2022-03-30T17:30:00",
          "2022-03-30T18:00:00",
          "2022-03-30T18:00:00",
          "2022-03-30T18:00:00",
          "2022-03-30T18:00:00",
          "2022-03-30T18:00:00",
          "2022-03-30T18:00:00",
          "2022-03-30T18:30:00",
          "2022-03-30T18:30:00",
          "2022-03-30T18:30:00",
          "2022-03-30T18:30:00",
          "2022-03-30T18:30:00",
          "2022-03-30T18:30:00",
          "2022-03-30T19:30:00",
          "2022-03-30T19:30:00",
          "2022-03-30T19:30:00",
          "2022-03-30T19:30:00",
          "2022-03-30T19:30:00",
          "2022-03-30T19:30:00",
          "2022-03-30T21:30:00",
          "2022-03-30T21:30:00",
          "2022-03-30T21:30:00",
          "2022-03-30T21:30:00",
          "2022-03-30T21:30:00",
          "2022-03-30T21:30:00",
          "2022-03-30T22:30:00",
          "2022-03-30T22:30:00",
          "2022-03-30T22:30:00",
          "2022-03-30T22:30:00",
          "2022-03-30T22:30:00",
          "2022-03-30T22:30:00",
          "2022-03-31T00:30:00",
          "2022-03-31T00:30:00",
          "2022-03-31T00:30:00",
          "2022-03-31T00:30:00",
          "2022-03-31T00:30:00",
          "2022-03-31T00:30:00",
          "2022-03-31T01:00:00",
          "2022-03-31T01:00:00",
          "2022-03-31T01:00:00",
          "2022-03-31T01:00:00",
          "2022-03-31T01:00:00",
          "2022-03-31T01:00:00",
          "2022-03-31T02:00:00",
          "2022-03-31T02:00:00",
          "2022-03-31T02:00:00",
          "2022-03-31T02:00:00",
          "2022-03-31T02:00:00",
          "2022-03-31T02:00:00",
          "2022-03-31T03:00:00",
          "2022-03-31T03:00:00",
          "2022-03-31T03:00:00",
          "2022-03-31T03:00:00",
          "2022-03-31T03:00:00",
          "2022-03-31T03:00:00",
          "2022-03-31T03:30:00",
          "2022-03-31T03:30:00",
          "2022-03-31T03:30:00",
          "2022-03-31T03:30:00",
          "2022-03-31T03:30:00",
          "2022-03-31T03:30:00",
          "2022-03-31T05:00:00",
          "2022-03-31T05:00:00",
          "2022-03-31T05:00:00",
          "2022-03-31T05:00:00",
          "2022-03-31T05:00:00",
          "2022-03-31T05:00:00",
          "2022-03-31T07:00:00",
          "2022-03-31T07:00:00",
          "2022-03-31T07:00:00",
          "2022-03-31T07:00:00",
          "2022-03-31T07:00:00",
          "2022-03-31T07:00:00",
          "2022-03-31T08:30:00",
          "2022-03-31T08:30:00",
          "2022-03-31T08:30:00",
          "2022-03-31T08:30:00",
          "2022-03-31T08:30:00",
          "2022-03-31T08:30:00",
          "2022-03-31T09:30:00",
          "2022-03-31T09:30:00",
          "2022-03-31T09:30:00",
          "2022-03-31T09:30:00",
          "2022-03-31T09:30:00",
          "2022-03-31T09:30:00",
          "2022-03-31T10:00:00",
          "2022-03-31T10:00:00",
          "2022-03-31T10:00:00",
          "2022-03-31T10:00:00",
          "2022-03-31T10:00:00",
          "2022-03-31T10:00:00",
          "2022-03-31T10:30:00",
          "2022-03-31T10:30:00",
          "2022-03-31T10:30:00",
          "2022-03-31T10:30:00",
          "2022-03-31T10:30:00",
          "2022-03-31T10:30:00",
          "2022-03-31T11:30:00",
          "2022-03-31T11:30:00",
          "2022-03-31T11:30:00",
          "2022-03-31T11:30:00",
          "2022-03-31T11:30:00",
          "2022-03-31T11:30:00",
          "2022-03-31T12:00:00",
          "2022-03-31T12:00:00",
          "2022-03-31T12:00:00",
          "2022-03-31T12:00:00",
          "2022-03-31T12:00:00",
          "2022-03-31T12:00:00",
          "2022-03-31T12:30:00",
          "2022-03-31T12:30:00",
          "2022-03-31T12:30:00",
          "2022-03-31T12:30:00",
          "2022-03-31T12:30:00",
          "2022-03-31T12:30:00",
          "2022-03-31T14:00:00",
          "2022-03-31T14:00:00",
          "2022-03-31T14:00:00",
          "2022-03-31T14:00:00",
          "2022-03-31T14:00:00",
          "2022-03-31T14:00:00",
          "2022-03-31T14:30:00",
          "2022-03-31T14:30:00",
          "2022-03-31T14:30:00",
          "2022-03-31T14:30:00",
          "2022-03-31T14:30:00",
          "2022-03-31T14:30:00",
          "2022-03-31T16:30:00",
          "2022-03-31T16:30:00",
          "2022-03-31T16:30:00",
          "2022-03-31T16:30:00",
          "2022-03-31T16:30:00",
          "2022-03-31T16:30:00",
          "2022-03-31T19:00:00",
          "2022-03-31T19:00:00",
          "2022-03-31T19:00:00",
          "2022-03-31T19:00:00",
          "2022-03-31T19:00:00",
          "2022-03-31T19:00:00",
          "2022-03-31T19:30:00",
          "2022-03-31T19:30:00",
          "2022-03-31T19:30:00",
          "2022-03-31T19:30:00",
          "2022-03-31T19:30:00",
          "2022-03-31T19:30:00",
          "2022-03-31T20:00:00",
          "2022-03-31T20:00:00",
          "2022-03-31T20:00:00",
          "2022-03-31T20:00:00",
          "2022-03-31T20:00:00",
          "2022-03-31T20:00:00",
          "2022-03-31T20:30:00",
          "2022-03-31T20:30:00",
          "2022-03-31T20:30:00",
          "2022-03-31T20:30:00",
          "2022-03-31T20:30:00",
          "2022-03-31T20:30:00",
          "2022-03-31T22:00:00",
          "2022-03-31T22:00:00",
          "2022-03-31T22:00:00",
          "2022-03-31T22:00:00",
          "2022-03-31T22:00:00",
          "2022-03-31T22:00:00",
          "2022-03-31T22:30:00",
          "2022-03-31T22:30:00",
          "2022-03-31T22:30:00",
          "2022-03-31T22:30:00",
          "2022-03-31T22:30:00",
          "2022-03-31T22:30:00",
          "2022-03-31T23:00:00",
          "2022-03-31T23:00:00",
          "2022-03-31T23:00:00",
          "2022-03-31T23:00:00",
          "2022-03-31T23:00:00",
          "2022-03-31T23:00:00",
          "2022-04-01T00:00:00",
          "2022-04-01T00:00:00",
          "2022-04-01T00:00:00",
          "2022-04-01T00:00:00",
          "2022-04-01T00:00:00",
          "2022-04-01T00:00:00"
         ],
         "y": [
          42684,
          42684.1,
          42761,
          42761,
          42761,
          42761.6,
          42722.8,
          42754.1,
          42774.8,
          42774.8,
          42774.8,
          42853.7,
          42160.2,
          42200.1,
          42447.6,
          42447.6,
          42447.6,
          42460.1,
          42450,
          42460,
          42524.2,
          42524.2,
          42524.2,
          42581.4,
          42524.1,
          42524.2,
          42678,
          42678,
          42678,
          42695.8,
          42605.1,
          42681.7,
          42714.1,
          42714.1,
          42714.1,
          42731.8,
          42547.4,
          42568.6,
          42779.4,
          42779.4,
          42779.4,
          42781,
          42750.7,
          42755,
          42779.4,
          42779.4,
          42779.4,
          42864.3,
          42610,
          42700,
          42714.6,
          42714.6,
          42714.6,
          42714.7,
          42381.2,
          42414.2,
          42460.3,
          42460.3,
          42460.3,
          42535,
          42309.9,
          42460.4,
          42462.6,
          42462.6,
          42462.6,
          42493,
          42300,
          42462.6,
          42573,
          42573,
          42573,
          42575.4,
          42443.5,
          42470.1,
          42530.1,
          42530.1,
          42530.1,
          42550.6,
          42021.4,
          42111.5,
          42251,
          42251,
          42251,
          42263,
          42022.6,
          42052.5,
          42228.2,
          42228.2,
          42228.2,
          42238.7,
          42141.7,
          42222.6,
          42292.9,
          42292.9,
          42292.9,
          42353.3,
          42250.2,
          42292.8,
          42360.5,
          42360.5,
          42360.5,
          42425,
          42326.7,
          42336.8,
          42753.4,
          42753.4,
          42753.4,
          42772.2,
          42010.8,
          42131.2,
          42209.6,
          42209.6,
          42209.6,
          42220.2,
          42163.9,
          42167.7,
          42358.7,
          42358.7,
          42358.7,
          42358.7,
          42027.8,
          42053.9,
          42178.5,
          42178.5,
          42178.5,
          42178.9,
          42177.6,
          42178.9,
          42255,
          42255,
          42255,
          42278.9,
          42096.7,
          42166.2,
          42240.9,
          42240.9,
          42240.9,
          42244.8,
          42200.1,
          42226.1,
          42300.1,
          42300.1,
          42300.1,
          42332.6,
          42303.6,
          42325,
          42414.6,
          42414.6,
          42414.6,
          42415.2,
          42222,
          42258.5,
          42282.5,
          42282.5,
          42282.5,
          42282.6,
          42050,
          42123.7,
          42229.1,
          42229.1,
          42229.1,
          42229.8,
          42172.3,
          42172.4,
          42218.1,
          42218.1,
          42218.1,
          42239.4,
          42189,
          42204.5,
          42298.9,
          42298.9,
          42298.9,
          42300,
          42294.6,
          42300,
          42312.6,
          42312.6,
          42312.6,
          42416.2,
          42312.7,
          42312.7,
          42463.9,
          42463.9,
          42463.9,
          42546.6,
          42370.5,
          42398.8,
          42594.9,
          42594.9,
          42594.9,
          42599.9,
          42564.8,
          42594.9,
          42607.7,
          42607.7,
          42607.7,
          42629.1,
          42567,
          42603.3,
          42603.8,
          42603.8,
          42603.8,
          42628.1,
          42460.1,
          42488.1,
          42578.3,
          42578.3,
          42578.3,
          42578.3,
          42580.4,
          42580.5,
          42722,
          42722,
          42722,
          42800,
          41800.1,
          41824.8,
          42013.1,
          42013.1,
          42013.1,
          42141.7,
          41182.7,
          41214.9,
          41228.8,
          41228.8,
          41228.8,
          41340,
          41230.9,
          41230.9,
          41350.1,
          41350.1,
          41350.1,
          41391.2,
          41200,
          41350.1,
          41424.1,
          41424.1,
          41424.1,
          41441.5,
          41393.7,
          41423.2,
          41523.3,
          41523.3,
          41523.3,
          41525.5,
          41139.7,
          41219.1,
          41276.7,
          41276.7,
          41276.7,
          41333.3,
          41247.5,
          41276.7,
          41350.1,
          41350.1,
          41350.1,
          41386.4,
          41300,
          41350.1,
          41445.1,
          41445.1,
          41445.1,
          41445.1,
          41290,
          41356.4,
          41366,
          41366,
          41366,
          41396.1
         ]
        },
        {
         "boxpoints": false,
         "fillcolor": "#FF4136",
         "line": {
          "color": "#FF4136"
         },
         "name": "Decreasing",
         "showlegend": false,
         "type": "box",
         "whiskerwidth": 0,
         "x": [
          "2022-03-30T02:00:00",
          "2022-03-30T02:00:00",
          "2022-03-30T02:00:00",
          "2022-03-30T02:00:00",
          "2022-03-30T02:00:00",
          "2022-03-30T02:00:00",
          "2022-03-30T02:30:00",
          "2022-03-30T02:30:00",
          "2022-03-30T02:30:00",
          "2022-03-30T02:30:00",
          "2022-03-30T02:30:00",
          "2022-03-30T02:30:00",
          "2022-03-30T03:00:00",
          "2022-03-30T03:00:00",
          "2022-03-30T03:00:00",
          "2022-03-30T03:00:00",
          "2022-03-30T03:00:00",
          "2022-03-30T03:00:00",
          "2022-03-30T03:30:00",
          "2022-03-30T03:30:00",
          "2022-03-30T03:30:00",
          "2022-03-30T03:30:00",
          "2022-03-30T03:30:00",
          "2022-03-30T03:30:00",
          "2022-03-30T06:00:00",
          "2022-03-30T06:00:00",
          "2022-03-30T06:00:00",
          "2022-03-30T06:00:00",
          "2022-03-30T06:00:00",
          "2022-03-30T06:00:00",
          "2022-03-30T06:30:00",
          "2022-03-30T06:30:00",
          "2022-03-30T06:30:00",
          "2022-03-30T06:30:00",
          "2022-03-30T06:30:00",
          "2022-03-30T06:30:00",
          "2022-03-30T07:30:00",
          "2022-03-30T07:30:00",
          "2022-03-30T07:30:00",
          "2022-03-30T07:30:00",
          "2022-03-30T07:30:00",
          "2022-03-30T07:30:00",
          "2022-03-30T08:30:00",
          "2022-03-30T08:30:00",
          "2022-03-30T08:30:00",
          "2022-03-30T08:30:00",
          "2022-03-30T08:30:00",
          "2022-03-30T08:30:00",
          "2022-03-30T09:30:00",
          "2022-03-30T09:30:00",
          "2022-03-30T09:30:00",
          "2022-03-30T09:30:00",
          "2022-03-30T09:30:00",
          "2022-03-30T09:30:00",
          "2022-03-30T10:00:00",
          "2022-03-30T10:00:00",
          "2022-03-30T10:00:00",
          "2022-03-30T10:00:00",
          "2022-03-30T10:00:00",
          "2022-03-30T10:00:00",
          "2022-03-30T10:30:00",
          "2022-03-30T10:30:00",
          "2022-03-30T10:30:00",
          "2022-03-30T10:30:00",
          "2022-03-30T10:30:00",
          "2022-03-30T10:30:00",
          "2022-03-30T11:00:00",
          "2022-03-30T11:00:00",
          "2022-03-30T11:00:00",
          "2022-03-30T11:00:00",
          "2022-03-30T11:00:00",
          "2022-03-30T11:00:00",
          "2022-03-30T11:30:00",
          "2022-03-30T11:30:00",
          "2022-03-30T11:30:00",
          "2022-03-30T11:30:00",
          "2022-03-30T11:30:00",
          "2022-03-30T11:30:00",
          "2022-03-30T13:30:00",
          "2022-03-30T13:30:00",
          "2022-03-30T13:30:00",
          "2022-03-30T13:30:00",
          "2022-03-30T13:30:00",
          "2022-03-30T13:30:00",
          "2022-03-30T14:00:00",
          "2022-03-30T14:00:00",
          "2022-03-30T14:00:00",
          "2022-03-30T14:00:00",
          "2022-03-30T14:00:00",
          "2022-03-30T14:00:00",
          "2022-03-30T15:00:00",
          "2022-03-30T15:00:00",
          "2022-03-30T15:00:00",
          "2022-03-30T15:00:00",
          "2022-03-30T15:00:00",
          "2022-03-30T15:00:00",
          "2022-03-30T15:30:00",
          "2022-03-30T15:30:00",
          "2022-03-30T15:30:00",
          "2022-03-30T15:30:00",
          "2022-03-30T15:30:00",
          "2022-03-30T15:30:00",
          "2022-03-30T16:30:00",
          "2022-03-30T16:30:00",
          "2022-03-30T16:30:00",
          "2022-03-30T16:30:00",
          "2022-03-30T16:30:00",
          "2022-03-30T16:30:00",
          "2022-03-30T17:00:00",
          "2022-03-30T17:00:00",
          "2022-03-30T17:00:00",
          "2022-03-30T17:00:00",
          "2022-03-30T17:00:00",
          "2022-03-30T17:00:00",
          "2022-03-30T19:00:00",
          "2022-03-30T19:00:00",
          "2022-03-30T19:00:00",
          "2022-03-30T19:00:00",
          "2022-03-30T19:00:00",
          "2022-03-30T19:00:00",
          "2022-03-30T20:00:00",
          "2022-03-30T20:00:00",
          "2022-03-30T20:00:00",
          "2022-03-30T20:00:00",
          "2022-03-30T20:00:00",
          "2022-03-30T20:00:00",
          "2022-03-30T20:30:00",
          "2022-03-30T20:30:00",
          "2022-03-30T20:30:00",
          "2022-03-30T20:30:00",
          "2022-03-30T20:30:00",
          "2022-03-30T20:30:00",
          "2022-03-30T21:00:00",
          "2022-03-30T21:00:00",
          "2022-03-30T21:00:00",
          "2022-03-30T21:00:00",
          "2022-03-30T21:00:00",
          "2022-03-30T21:00:00",
          "2022-03-30T22:00:00",
          "2022-03-30T22:00:00",
          "2022-03-30T22:00:00",
          "2022-03-30T22:00:00",
          "2022-03-30T22:00:00",
          "2022-03-30T22:00:00",
          "2022-03-30T23:00:00",
          "2022-03-30T23:00:00",
          "2022-03-30T23:00:00",
          "2022-03-30T23:00:00",
          "2022-03-30T23:00:00",
          "2022-03-30T23:00:00",
          "2022-03-30T23:30:00",
          "2022-03-30T23:30:00",
          "2022-03-30T23:30:00",
          "2022-03-30T23:30:00",
          "2022-03-30T23:30:00",
          "2022-03-30T23:30:00",
          "2022-03-31T00:00:00",
          "2022-03-31T00:00:00",
          "2022-03-31T00:00:00",
          "2022-03-31T00:00:00",
          "2022-03-31T00:00:00",
          "2022-03-31T00:00:00",
          "2022-03-31T01:30:00",
          "2022-03-31T01:30:00",
          "2022-03-31T01:30:00",
          "2022-03-31T01:30:00",
          "2022-03-31T01:30:00",
          "2022-03-31T01:30:00",
          "2022-03-31T02:30:00",
          "2022-03-31T02:30:00",
          "2022-03-31T02:30:00",
          "2022-03-31T02:30:00",
          "2022-03-31T02:30:00",
          "2022-03-31T02:30:00",
          "2022-03-31T04:00:00",
          "2022-03-31T04:00:00",
          "2022-03-31T04:00:00",
          "2022-03-31T04:00:00",
          "2022-03-31T04:00:00",
          "2022-03-31T04:00:00",
          "2022-03-31T04:30:00",
          "2022-03-31T04:30:00",
          "2022-03-31T04:30:00",
          "2022-03-31T04:30:00",
          "2022-03-31T04:30:00",
          "2022-03-31T04:30:00",
          "2022-03-31T05:30:00",
          "2022-03-31T05:30:00",
          "2022-03-31T05:30:00",
          "2022-03-31T05:30:00",
          "2022-03-31T05:30:00",
          "2022-03-31T05:30:00",
          "2022-03-31T06:00:00",
          "2022-03-31T06:00:00",
          "2022-03-31T06:00:00",
          "2022-03-31T06:00:00",
          "2022-03-31T06:00:00",
          "2022-03-31T06:00:00",
          "2022-03-31T06:30:00",
          "2022-03-31T06:30:00",
          "2022-03-31T06:30:00",
          "2022-03-31T06:30:00",
          "2022-03-31T06:30:00",
          "2022-03-31T06:30:00",
          "2022-03-31T07:30:00",
          "2022-03-31T07:30:00",
          "2022-03-31T07:30:00",
          "2022-03-31T07:30:00",
          "2022-03-31T07:30:00",
          "2022-03-31T07:30:00",
          "2022-03-31T08:00:00",
          "2022-03-31T08:00:00",
          "2022-03-31T08:00:00",
          "2022-03-31T08:00:00",
          "2022-03-31T08:00:00",
          "2022-03-31T08:00:00",
          "2022-03-31T09:00:00",
          "2022-03-31T09:00:00",
          "2022-03-31T09:00:00",
          "2022-03-31T09:00:00",
          "2022-03-31T09:00:00",
          "2022-03-31T09:00:00",
          "2022-03-31T11:00:00",
          "2022-03-31T11:00:00",
          "2022-03-31T11:00:00",
          "2022-03-31T11:00:00",
          "2022-03-31T11:00:00",
          "2022-03-31T11:00:00",
          "2022-03-31T13:00:00",
          "2022-03-31T13:00:00",
          "2022-03-31T13:00:00",
          "2022-03-31T13:00:00",
          "2022-03-31T13:00:00",
          "2022-03-31T13:00:00",
          "2022-03-31T13:30:00",
          "2022-03-31T13:30:00",
          "2022-03-31T13:30:00",
          "2022-03-31T13:30:00",
          "2022-03-31T13:30:00",
          "2022-03-31T13:30:00",
          "2022-03-31T15:00:00",
          "2022-03-31T15:00:00",
          "2022-03-31T15:00:00",
          "2022-03-31T15:00:00",
          "2022-03-31T15:00:00",
          "2022-03-31T15:00:00",
          "2022-03-31T15:30:00",
          "2022-03-31T15:30:00",
          "2022-03-31T15:30:00",
          "2022-03-31T15:30:00",
          "2022-03-31T15:30:00",
          "2022-03-31T15:30:00",
          "2022-03-31T16:00:00",
          "2022-03-31T16:00:00",
          "2022-03-31T16:00:00",
          "2022-03-31T16:00:00",
          "2022-03-31T16:00:00",
          "2022-03-31T16:00:00",
          "2022-03-31T17:00:00",
          "2022-03-31T17:00:00",
          "2022-03-31T17:00:00",
          "2022-03-31T17:00:00",
          "2022-03-31T17:00:00",
          "2022-03-31T17:00:00",
          "2022-03-31T17:30:00",
          "2022-03-31T17:30:00",
          "2022-03-31T17:30:00",
          "2022-03-31T17:30:00",
          "2022-03-31T17:30:00",
          "2022-03-31T17:30:00",
          "2022-03-31T18:00:00",
          "2022-03-31T18:00:00",
          "2022-03-31T18:00:00",
          "2022-03-31T18:00:00",
          "2022-03-31T18:00:00",
          "2022-03-31T18:00:00",
          "2022-03-31T18:30:00",
          "2022-03-31T18:30:00",
          "2022-03-31T18:30:00",
          "2022-03-31T18:30:00",
          "2022-03-31T18:30:00",
          "2022-03-31T18:30:00",
          "2022-03-31T21:00:00",
          "2022-03-31T21:00:00",
          "2022-03-31T21:00:00",
          "2022-03-31T21:00:00",
          "2022-03-31T21:00:00",
          "2022-03-31T21:00:00",
          "2022-03-31T21:30:00",
          "2022-03-31T21:30:00",
          "2022-03-31T21:30:00",
          "2022-03-31T21:30:00",
          "2022-03-31T21:30:00",
          "2022-03-31T21:30:00",
          "2022-03-31T23:30:00",
          "2022-03-31T23:30:00",
          "2022-03-31T23:30:00",
          "2022-03-31T23:30:00",
          "2022-03-31T23:30:00",
          "2022-03-31T23:30:00",
          "2022-04-01T00:30:00",
          "2022-04-01T00:30:00",
          "2022-04-01T00:30:00",
          "2022-04-01T00:30:00",
          "2022-04-01T00:30:00",
          "2022-04-01T00:30:00",
          "2022-04-01T01:00:00",
          "2022-04-01T01:00:00",
          "2022-04-01T01:00:00",
          "2022-04-01T01:00:00",
          "2022-04-01T01:00:00",
          "2022-04-01T01:00:00",
          "2022-04-01T01:30:00",
          "2022-04-01T01:30:00",
          "2022-04-01T01:30:00",
          "2022-04-01T01:30:00",
          "2022-04-01T01:30:00",
          "2022-04-01T01:30:00"
         ],
         "y": [
          42653.7,
          42771.8,
          42653.8,
          42653.8,
          42653.8,
          42773.7,
          42478.4,
          42653.7,
          42592.7,
          42592.7,
          42592.7,
          42653.7,
          42377.9,
          42590.4,
          42386.7,
          42386.7,
          42386.7,
          42590.4,
          41815,
          42386.7,
          42205.4,
          42205.4,
          42205.4,
          42430.3,
          42578.9,
          42715.9,
          42618.1,
          42618.1,
          42618.1,
          42730.9,
          42482,
          42617.6,
          42563.8,
          42563.8,
          42563.8,
          42620.2,
          42700.3,
          42781,
          42754.9,
          42754.9,
          42754.9,
          42834,
          42651,
          42785.5,
          42702.1,
          42702.1,
          42702.1,
          42788.8,
          42600.9,
          42709.6,
          42604.6,
          42604.6,
          42604.6,
          42742.6,
          42448,
          42601.2,
          42594.8,
          42594.8,
          42594.8,
          42601.2,
          42543.5,
          42587.6,
          42545.6,
          42545.6,
          42545.6,
          42673.8,
          42400,
          42554.7,
          42445.9,
          42445.9,
          42445.9,
          42566.2,
          42379.9,
          42445.9,
          42414.2,
          42414.2,
          42414.2,
          42450.9,
          42407.5,
          42573.1,
          42484.1,
          42484.1,
          42484.1,
          42575.4,
          42340.6,
          42485.3,
          42470.1,
          42470.1,
          42470.1,
          42502.9,
          42311.1,
          42530.1,
          42351.6,
          42351.6,
          42351.6,
          42540,
          42072.1,
          42359.9,
          42104.5,
          42104.5,
          42104.5,
          42372.4,
          42175.6,
          42251,
          42220,
          42220,
          42220,
          42308.2,
          42035.7,
          42220,
          42052.4,
          42052.4,
          42052.4,
          42220.7,
          42316.5,
          42358.5,
          42335.1,
          42335.1,
          42335.1,
          42429.7,
          42593.5,
          42753.5,
          42619.4,
          42619.4,
          42619.4,
          42768.4,
          42226.9,
          42619.4,
          42227,
          42227,
          42227,
          42636.6,
          42091,
          42226.9,
          42143.4,
          42143.4,
          42143.4,
          42286.4,
          42150,
          42220.1,
          42158.4,
          42158.4,
          42158.4,
          42275.8,
          42267.1,
          42358.8,
          42312.6,
          42312.6,
          42312.6,
          42380.5,
          42052.9,
          42312.6,
          42115,
          42115,
          42115,
          42387.6,
          41982.5,
          42115,
          42053.9,
          42053.9,
          42053.9,
          42149.8,
          42115.2,
          42254.2,
          42170.8,
          42170.8,
          42170.8,
          42255,
          42226.1,
          42240.9,
          42226.2,
          42226.2,
          42226.2,
          42300,
          42332.9,
          42414,
          42333.2,
          42333.2,
          42333.2,
          42420,
          42235.4,
          42332.6,
          42258.5,
          42258.5,
          42258.5,
          42332.6,
          42165,
          42282.6,
          42165,
          42165,
          42165,
          42282.6,
          42152,
          42165.1,
          42152.1,
          42152.1,
          42152.1,
          42222.6,
          42098.3,
          42152.1,
          42130,
          42130,
          42130,
          42182.2,
          42161.1,
          42229,
          42178.9,
          42178.9,
          42178.9,
          42230.1,
          42123.3,
          42178.9,
          42172.4,
          42172.4,
          42172.4,
          42188.1,
          42169.1,
          42218.2,
          42204.5,
          42204.5,
          42204.5,
          42236.5,
          42394.6,
          42460.1,
          42395.7,
          42395.7,
          42395.7,
          42491.2,
          42514.2,
          42603.8,
          42531.9,
          42531.9,
          42531.9,
          42603.9,
          42455.6,
          42532,
          42488.1,
          42488.1,
          42488.1,
          42542.2,
          42502.2,
          42722,
          42594.9,
          42594.9,
          42594.9,
          42890,
          42325.6,
          42594.9,
          42339.9,
          42339.9,
          42339.9,
          42595,
          41705,
          42330.2,
          41841,
          41841,
          41841,
          42330.2,
          41767.5,
          42013,
          41917,
          41917,
          41917,
          42084.6,
          41811.6,
          41917,
          41881.8,
          41881.8,
          41881.8,
          42038.8,
          40620,
          41878.2,
          41466.1,
          41466.1,
          41466.1,
          41900,
          41212,
          41465.5,
          41224.8,
          41224.8,
          41224.8,
          41503.9,
          41282.8,
          41524.3,
          41284.9,
          41284.9,
          41284.9,
          41549.4,
          41120.2,
          41279.1,
          41219,
          41219,
          41219,
          41368.1,
          41328.5,
          41444.5,
          41361.1,
          41361.1,
          41361.1,
          41444.5,
          41300,
          41365.9,
          41350.6,
          41350.6,
          41350.6,
          41392.7,
          41225.7,
          41350.7,
          41272.6,
          41272.6,
          41272.6,
          41350.7,
          40862,
          41271.1,
          41095.8,
          41095.8,
          41095.8,
          41277.4
         ]
        }
       ],
       "layout": {
        "template": {
         "data": {
          "bar": [
           {
            "error_x": {
             "color": "#2a3f5f"
            },
            "error_y": {
             "color": "#2a3f5f"
            },
            "marker": {
             "line": {
              "color": "#E5ECF6",
              "width": 0.5
             },
             "pattern": {
              "fillmode": "overlay",
              "size": 10,
              "solidity": 0.2
             }
            },
            "type": "bar"
           }
          ],
          "barpolar": [
           {
            "marker": {
             "line": {
              "color": "#E5ECF6",
              "width": 0.5
             },
             "pattern": {
              "fillmode": "overlay",
              "size": 10,
              "solidity": 0.2
             }
            },
            "type": "barpolar"
           }
          ],
          "carpet": [
           {
            "aaxis": {
             "endlinecolor": "#2a3f5f",
             "gridcolor": "white",
             "linecolor": "white",
             "minorgridcolor": "white",
             "startlinecolor": "#2a3f5f"
            },
            "baxis": {
             "endlinecolor": "#2a3f5f",
             "gridcolor": "white",
             "linecolor": "white",
             "minorgridcolor": "white",
             "startlinecolor": "#2a3f5f"
            },
            "type": "carpet"
           }
          ],
          "choropleth": [
           {
            "colorbar": {
             "outlinewidth": 0,
             "ticks": ""
            },
            "type": "choropleth"
           }
          ],
          "contour": [
           {
            "colorbar": {
             "outlinewidth": 0,
             "ticks": ""
            },
            "colorscale": [
             [
              0,
              "#0d0887"
             ],
             [
              0.1111111111111111,
              "#46039f"
             ],
             [
              0.2222222222222222,
              "#7201a8"
             ],
             [
              0.3333333333333333,
              "#9c179e"
             ],
             [
              0.4444444444444444,
              "#bd3786"
             ],
             [
              0.5555555555555556,
              "#d8576b"
             ],
             [
              0.6666666666666666,
              "#ed7953"
             ],
             [
              0.7777777777777778,
              "#fb9f3a"
             ],
             [
              0.8888888888888888,
              "#fdca26"
             ],
             [
              1,
              "#f0f921"
             ]
            ],
            "type": "contour"
           }
          ],
          "contourcarpet": [
           {
            "colorbar": {
             "outlinewidth": 0,
             "ticks": ""
            },
            "type": "contourcarpet"
           }
          ],
          "heatmap": [
           {
            "colorbar": {
             "outlinewidth": 0,
             "ticks": ""
            },
            "colorscale": [
             [
              0,
              "#0d0887"
             ],
             [
              0.1111111111111111,
              "#46039f"
             ],
             [
              0.2222222222222222,
              "#7201a8"
             ],
             [
              0.3333333333333333,
              "#9c179e"
             ],
             [
              0.4444444444444444,
              "#bd3786"
             ],
             [
              0.5555555555555556,
              "#d8576b"
             ],
             [
              0.6666666666666666,
              "#ed7953"
             ],
             [
              0.7777777777777778,
              "#fb9f3a"
             ],
             [
              0.8888888888888888,
              "#fdca26"
             ],
             [
              1,
              "#f0f921"
             ]
            ],
            "type": "heatmap"
           }
          ],
          "heatmapgl": [
           {
            "colorbar": {
             "outlinewidth": 0,
             "ticks": ""
            },
            "colorscale": [
             [
              0,
              "#0d0887"
             ],
             [
              0.1111111111111111,
              "#46039f"
             ],
             [
              0.2222222222222222,
              "#7201a8"
             ],
             [
              0.3333333333333333,
              "#9c179e"
             ],
             [
              0.4444444444444444,
              "#bd3786"
             ],
             [
              0.5555555555555556,
              "#d8576b"
             ],
             [
              0.6666666666666666,
              "#ed7953"
             ],
             [
              0.7777777777777778,
              "#fb9f3a"
             ],
             [
              0.8888888888888888,
              "#fdca26"
             ],
             [
              1,
              "#f0f921"
             ]
            ],
            "type": "heatmapgl"
           }
          ],
          "histogram": [
           {
            "marker": {
             "pattern": {
              "fillmode": "overlay",
              "size": 10,
              "solidity": 0.2
             }
            },
            "type": "histogram"
           }
          ],
          "histogram2d": [
           {
            "colorbar": {
             "outlinewidth": 0,
             "ticks": ""
            },
            "colorscale": [
             [
              0,
              "#0d0887"
             ],
             [
              0.1111111111111111,
              "#46039f"
             ],
             [
              0.2222222222222222,
              "#7201a8"
             ],
             [
              0.3333333333333333,
              "#9c179e"
             ],
             [
              0.4444444444444444,
              "#bd3786"
             ],
             [
              0.5555555555555556,
              "#d8576b"
             ],
             [
              0.6666666666666666,
              "#ed7953"
             ],
             [
              0.7777777777777778,
              "#fb9f3a"
             ],
             [
              0.8888888888888888,
              "#fdca26"
             ],
             [
              1,
              "#f0f921"
             ]
            ],
            "type": "histogram2d"
           }
          ],
          "histogram2dcontour": [
           {
            "colorbar": {
             "outlinewidth": 0,
             "ticks": ""
            },
            "colorscale": [
             [
              0,
              "#0d0887"
             ],
             [
              0.1111111111111111,
              "#46039f"
             ],
             [
              0.2222222222222222,
              "#7201a8"
             ],
             [
              0.3333333333333333,
              "#9c179e"
             ],
             [
              0.4444444444444444,
              "#bd3786"
             ],
             [
              0.5555555555555556,
              "#d8576b"
             ],
             [
              0.6666666666666666,
              "#ed7953"
             ],
             [
              0.7777777777777778,
              "#fb9f3a"
             ],
             [
              0.8888888888888888,
              "#fdca26"
             ],
             [
              1,
              "#f0f921"
             ]
            ],
            "type": "histogram2dcontour"
           }
          ],
          "mesh3d": [
           {
            "colorbar": {
             "outlinewidth": 0,
             "ticks": ""
            },
            "type": "mesh3d"
           }
          ],
          "parcoords": [
           {
            "line": {
             "colorbar": {
              "outlinewidth": 0,
              "ticks": ""
             }
            },
            "type": "parcoords"
           }
          ],
          "pie": [
           {
            "automargin": true,
            "type": "pie"
           }
          ],
          "scatter": [
           {
            "marker": {
             "colorbar": {
              "outlinewidth": 0,
              "ticks": ""
             }
            },
            "type": "scatter"
           }
          ],
          "scatter3d": [
           {
            "line": {
             "colorbar": {
              "outlinewidth": 0,
              "ticks": ""
             }
            },
            "marker": {
             "colorbar": {
              "outlinewidth": 0,
              "ticks": ""
             }
            },
            "type": "scatter3d"
           }
          ],
          "scattercarpet": [
           {
            "marker": {
             "colorbar": {
              "outlinewidth": 0,
              "ticks": ""
             }
            },
            "type": "scattercarpet"
           }
          ],
          "scattergeo": [
           {
            "marker": {
             "colorbar": {
              "outlinewidth": 0,
              "ticks": ""
             }
            },
            "type": "scattergeo"
           }
          ],
          "scattergl": [
           {
            "marker": {
             "colorbar": {
              "outlinewidth": 0,
              "ticks": ""
             }
            },
            "type": "scattergl"
           }
          ],
          "scattermapbox": [
           {
            "marker": {
             "colorbar": {
              "outlinewidth": 0,
              "ticks": ""
             }
            },
            "type": "scattermapbox"
           }
          ],
          "scatterpolar": [
           {
            "marker": {
             "colorbar": {
              "outlinewidth": 0,
              "ticks": ""
             }
            },
            "type": "scatterpolar"
           }
          ],
          "scatterpolargl": [
           {
            "marker": {
             "colorbar": {
              "outlinewidth": 0,
              "ticks": ""
             }
            },
            "type": "scatterpolargl"
           }
          ],
          "scatterternary": [
           {
            "marker": {
             "colorbar": {
              "outlinewidth": 0,
              "ticks": ""
             }
            },
            "type": "scatterternary"
           }
          ],
          "surface": [
           {
            "colorbar": {
             "outlinewidth": 0,
             "ticks": ""
            },
            "colorscale": [
             [
              0,
              "#0d0887"
             ],
             [
              0.1111111111111111,
              "#46039f"
             ],
             [
              0.2222222222222222,
              "#7201a8"
             ],
             [
              0.3333333333333333,
              "#9c179e"
             ],
             [
              0.4444444444444444,
              "#bd3786"
             ],
             [
              0.5555555555555556,
              "#d8576b"
             ],
             [
              0.6666666666666666,
              "#ed7953"
             ],
             [
              0.7777777777777778,
              "#fb9f3a"
             ],
             [
              0.8888888888888888,
              "#fdca26"
             ],
             [
              1,
              "#f0f921"
             ]
            ],
            "type": "surface"
           }
          ],
          "table": [
           {
            "cells": {
             "fill": {
              "color": "#EBF0F8"
             },
             "line": {
              "color": "white"
             }
            },
            "header": {
             "fill": {
              "color": "#C8D4E3"
             },
             "line": {
              "color": "white"
             }
            },
            "type": "table"
           }
          ]
         },
         "layout": {
          "annotationdefaults": {
           "arrowcolor": "#2a3f5f",
           "arrowhead": 0,
           "arrowwidth": 1
          },
          "autotypenumbers": "strict",
          "coloraxis": {
           "colorbar": {
            "outlinewidth": 0,
            "ticks": ""
           }
          },
          "colorscale": {
           "diverging": [
            [
             0,
             "#8e0152"
            ],
            [
             0.1,
             "#c51b7d"
            ],
            [
             0.2,
             "#de77ae"
            ],
            [
             0.3,
             "#f1b6da"
            ],
            [
             0.4,
             "#fde0ef"
            ],
            [
             0.5,
             "#f7f7f7"
            ],
            [
             0.6,
             "#e6f5d0"
            ],
            [
             0.7,
             "#b8e186"
            ],
            [
             0.8,
             "#7fbc41"
            ],
            [
             0.9,
             "#4d9221"
            ],
            [
             1,
             "#276419"
            ]
           ],
           "sequential": [
            [
             0,
             "#0d0887"
            ],
            [
             0.1111111111111111,
             "#46039f"
            ],
            [
             0.2222222222222222,
             "#7201a8"
            ],
            [
             0.3333333333333333,
             "#9c179e"
            ],
            [
             0.4444444444444444,
             "#bd3786"
            ],
            [
             0.5555555555555556,
             "#d8576b"
            ],
            [
             0.6666666666666666,
             "#ed7953"
            ],
            [
             0.7777777777777778,
             "#fb9f3a"
            ],
            [
             0.8888888888888888,
             "#fdca26"
            ],
            [
             1,
             "#f0f921"
            ]
           ],
           "sequentialminus": [
            [
             0,
             "#0d0887"
            ],
            [
             0.1111111111111111,
             "#46039f"
            ],
            [
             0.2222222222222222,
             "#7201a8"
            ],
            [
             0.3333333333333333,
             "#9c179e"
            ],
            [
             0.4444444444444444,
             "#bd3786"
            ],
            [
             0.5555555555555556,
             "#d8576b"
            ],
            [
             0.6666666666666666,
             "#ed7953"
            ],
            [
             0.7777777777777778,
             "#fb9f3a"
            ],
            [
             0.8888888888888888,
             "#fdca26"
            ],
            [
             1,
             "#f0f921"
            ]
           ]
          },
          "colorway": [
           "#636efa",
           "#EF553B",
           "#00cc96",
           "#ab63fa",
           "#FFA15A",
           "#19d3f3",
           "#FF6692",
           "#B6E880",
           "#FF97FF",
           "#FECB52"
          ],
          "font": {
           "color": "#2a3f5f"
          },
          "geo": {
           "bgcolor": "white",
           "lakecolor": "white",
           "landcolor": "#E5ECF6",
           "showlakes": true,
           "showland": true,
           "subunitcolor": "white"
          },
          "hoverlabel": {
           "align": "left"
          },
          "hovermode": "closest",
          "mapbox": {
           "style": "light"
          },
          "paper_bgcolor": "white",
          "plot_bgcolor": "#E5ECF6",
          "polar": {
           "angularaxis": {
            "gridcolor": "white",
            "linecolor": "white",
            "ticks": ""
           },
           "bgcolor": "#E5ECF6",
           "radialaxis": {
            "gridcolor": "white",
            "linecolor": "white",
            "ticks": ""
           }
          },
          "scene": {
           "xaxis": {
            "backgroundcolor": "#E5ECF6",
            "gridcolor": "white",
            "gridwidth": 2,
            "linecolor": "white",
            "showbackground": true,
            "ticks": "",
            "zerolinecolor": "white"
           },
           "yaxis": {
            "backgroundcolor": "#E5ECF6",
            "gridcolor": "white",
            "gridwidth": 2,
            "linecolor": "white",
            "showbackground": true,
            "ticks": "",
            "zerolinecolor": "white"
           },
           "zaxis": {
            "backgroundcolor": "#E5ECF6",
            "gridcolor": "white",
            "gridwidth": 2,
            "linecolor": "white",
            "showbackground": true,
            "ticks": "",
            "zerolinecolor": "white"
           }
          },
          "shapedefaults": {
           "line": {
            "color": "#2a3f5f"
           }
          },
          "ternary": {
           "aaxis": {
            "gridcolor": "white",
            "linecolor": "white",
            "ticks": ""
           },
           "baxis": {
            "gridcolor": "white",
            "linecolor": "white",
            "ticks": ""
           },
           "bgcolor": "#E5ECF6",
           "caxis": {
            "gridcolor": "white",
            "linecolor": "white",
            "ticks": ""
           }
          },
          "title": {
           "x": 0.05
          },
          "xaxis": {
           "automargin": true,
           "gridcolor": "white",
           "linecolor": "white",
           "ticks": "",
           "title": {
            "standoff": 15
           },
           "zerolinecolor": "white",
           "zerolinewidth": 2
          },
          "yaxis": {
           "automargin": true,
           "gridcolor": "white",
           "linecolor": "white",
           "ticks": "",
           "title": {
            "standoff": 15
           },
           "zerolinecolor": "white",
           "zerolinewidth": 2
          }
         }
        }
       }
      }
     },
     "metadata": {},
     "output_type": "display_data"
    }
   ],
   "source": [
    "df = nTimesLargerInterval(getOfflinePrices(since=timeToTimeStamp(2022,Months.march,30,0,0,0)),interval=2)\n",
    "fig = figure_factory.create_candlestick(df.open, df.high, df.low, df.close, dates=df.dateTime)\n",
    "fig.show()\n"
   ]
  },
  {
   "cell_type": "code",
   "execution_count": 24,
   "metadata": {},
   "outputs": [
    {
     "data": {
      "image/png": "[encoded data removed]",
      "text/plain": [
       "<Figure size 1728x720 with 1 Axes>"
      ]
     },
     "metadata": {
      "needs_background": "light"
     },
     "output_type": "display_data"
    }
   ],
   "source": [
    "df = getOfflinePrices(interval=Intervals.fifteenMin).tail(240)\n",
    "# df = nTimesLargerInterval(getOfflinePrices(interval=Intervals.minute, since=timeToTimeStamp(2021, Months.september, 4, 14, 0, 0)))\n",
    "ema20 = pd.DataFrame(get_ema(df['close'], 100), index=df.index.copy(), columns=['data'])\n",
    "sma20 = pd.DataFrame(get_sma(df['close'], 20), index=df.index.copy(), columns=['data'])\n",
    "# ema50 = pd.DataFrame(get_ema(df['close'], 50),index=df.index.copy(),columns=['data'])\n",
    "# sma50 = pd.DataFrame(get_sma(df['close'], 50),index=df.index.copy(),columns=['data'])\n",
    "# ema200 = pd.DataFrame(get_ema(df['close'], 200),index=df.index.copy(),columns=['data'])\n",
    "# sma200 = pd.DataFrame(get_sma(df['close'], 200),index=df.index.copy(),columns=['data'])\n",
    "\n",
    "plt.figure(figsize=[24, 10])\n",
    "plt.xlabel('Time')\n",
    "plt.ylabel('Price')\n",
    "plt.plot(df['close'], label='Closing Prices')\n",
    "plt.plot(ema20, label='EMA 20')\n",
    "plt.plot(sma20, label='SMA 20')\n",
    "# plt.plot(ema50, label='EMA 50')\n",
    "# plt.plot(sma50, label='SMA 50')\n",
    "# plt.plot(ema200, label='EMA 200')\n",
    "# plt.plot(sma200, label='SMA 200')\n",
    "# plt.plot(np.arange(250-15, df.shape[0]+1),df2.close.tail(16),label='5min')\n",
    "plt.legend()\n",
    "plt.show()\n"
   ]
  },
  {
   "cell_type": "code",
   "execution_count": 25,
   "metadata": {},
   "outputs": [
    {
     "data": {
      "image/png": "[encoded data removed]",
      "text/plain": [
       "<Figure size 1728x720 with 1 Axes>"
      ]
     },
     "metadata": {
      "needs_background": "light"
     },
     "output_type": "display_data"
    }
   ],
   "source": [
    "df = getOfflinePrices(interval=Intervals.fifteenMin).tail(240)\n",
    "macd, macdsignal = get_macd(df.close, fastperiod=12, slowperiod=26, signalperiod=9)\n",
    "plt.figure(figsize=[24, 10])\n",
    "plt.xlabel('Time')\n",
    "plt.ylabel('Price')\n",
    "plt.plot(macd, label='macd')\n",
    "# plt.plot(df['close'], label='Closing Prices')\n",
    "plt.axhline(y=0, color='black', linestyle='--')\n",
    "plt.plot(macdsignal, label='signal')\n",
    "# plt.plot(np.arange(250-15, df.shape[0]+1),df2.close.tail(16),label='5min')\n",
    "plt.legend()\n",
    "plt.show()\n"
   ]
  }
 ],
 "metadata": {
  "interpreter": {
   "hash": "e607cfaa26cb91aa3868da1781a3ab4311473d1029680f1bdabd951cbd3e4436"
  },
  "kernelspec": {
   "display_name": "Python 3.9.2 64-bit ('.venv': venv)",
   "name": "python3"
  },
  "language_info": {
   "codemirror_mode": {
    "name": "ipython",
    "version": 3
   },
   "file_extension": ".py",
   "mimetype": "text/x-python",
   "name": "python",
   "nbconvert_exporter": "python",
   "pygments_lexer": "ipython3",
   "version": "3.9.12"
  },
  "orig_nbformat": 4
 },
 "nbformat": 4,
 "nbformat_minor": 2
}
