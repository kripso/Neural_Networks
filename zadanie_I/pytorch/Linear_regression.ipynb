{
  "cells": [
    {
      "cell_type": "code",
      "execution_count": 1,
      "metadata": {
        "colab": {},
        "colab_type": "code",
        "id": "P-sHhT87oXfd"
      },
      "outputs": [],
      "source": [
        "#Import libraries\n",
        "import wandb\n",
        "import torch\n",
        "import pandas as pd\n",
        "import numpy as np\n",
        "from torch import nn\n",
        "import matplotlib.pyplot as plt\n",
        "from torch.utils.data import DataLoader, TensorDataset, random_split\n",
        "from sklearn.model_selection import train_test_split\n",
        "from sklearn.metrics import mean_absolute_error\n"
      ]
    },
    {
      "cell_type": "code",
      "execution_count": 3,
      "metadata": {},
      "outputs": [
        {
          "name": "stdout",
          "output_type": "stream",
          "text": [
            "cuda\n"
          ]
        }
      ],
      "source": [
        "device = \"cuda\" if torch.cuda.is_available() else \"cpu\"\n",
        "# device = 'cpu'\n",
        "print(device)\n",
        "\n",
        "# wandb.init(project=\"my-test-project\")\n",
        "\n",
        "batch_size = 1024\n",
        "epochs = 1000\n",
        "progres_print_rate = 10\n",
        "learning_rate = 0.01\n",
        "\n",
        "config = {\n",
        "  \"learning_rate\": learning_rate,\n",
        "  \"epochs\": epochs,\n",
        "  \"batch_size\": batch_size\n",
        "}"
      ]
    },
    {
      "cell_type": "code",
      "execution_count": null,
      "metadata": {
        "colab": {},
        "colab_type": "code",
        "id": "Qn5Wss2MoyWN"
      },
      "outputs": [],
      "source": [
        "#Loading the data set\n",
        "column_names = ['CRIM', 'ZN', 'INDUS', 'CHAS', 'NOX', 'RM', 'AGE', 'DIS', 'RAD', 'TAX', 'PTRATIO', 'B', 'LSTAT', 'MEDV']\n",
        "boston_raw = pd.read_csv('../data/housing.csv', header=None, delimiter=r\"\\s+\", names=column_names)\n",
        "\n",
        "data = boston_raw.copy()"
      ]
    },
    {
      "cell_type": "code",
      "execution_count": null,
      "metadata": {
        "colab": {},
        "colab_type": "code",
        "id": "H7ummj4IrTFo"
      },
      "outputs": [],
      "source": [
        "train, _test = train_test_split(data,  test_size = 0.2, shuffle=True)\n",
        "test, validate = train_test_split(_test, test_size = 0.5)\n",
        "\n",
        "train_targets = train.pop(\"MEDV\")\n",
        "test_targets = test.pop(\"MEDV\")\n",
        "validate_targets = validate.pop('MEDV')\n",
        "\n",
        "train_stats = train.describe()\n",
        "train_stats = train_stats.transpose()"
      ]
    },
    {
      "cell_type": "code",
      "execution_count": null,
      "metadata": {},
      "outputs": [],
      "source": [
        "def df_to_tensor(df):\n",
        "    return torch.from_numpy(df.values).float().to(device)\n",
        "def norm(x):\n",
        "  return (x - train_stats['mean']) / train_stats['std']"
      ]
    },
    {
      "cell_type": "code",
      "execution_count": null,
      "metadata": {
        "colab": {},
        "colab_type": "code",
        "id": "TY92B0w4xspy"
      },
      "outputs": [],
      "source": [
        "#Converting training data into tensors for Pytorch\n",
        "train_dataset = TensorDataset(df_to_tensor(norm(train)), torch.Tensor([[x] for x in list(train_targets)]))\n",
        "validate_dataset = TensorDataset(df_to_tensor(norm(validate)), torch.Tensor([[x] for x in list(validate_targets)]))\n",
        "x_test, y_test = (df_to_tensor(norm(test)),[x for x in list(test_targets)])\n",
        "\n",
        "train_dataloader = DataLoader(train_dataset,batch_size=batch_size)\n",
        "validate_dataloader = DataLoader(validate_dataset,batch_size=batch_size)\n",
        "# test_dataloader = DataLoader(test_dataset,batch_size=5)\n",
        "\n"
      ]
    },
    {
      "cell_type": "code",
      "execution_count": null,
      "metadata": {
        "colab": {},
        "colab_type": "code",
        "id": "945XnSQ9Ok3k"
      },
      "outputs": [],
      "source": [
        "class NeuralNetwork(nn.Module):\n",
        "    def __init__(self,in_size, out_size):\n",
        "        super(NeuralNetwork, self).__init__()\n",
        "        # self.flatten = nn.Flatten()\n",
        "        self.linear_relu_stack = nn.Sequential(\n",
        "            nn.Linear(in_size, 5),\n",
        "            nn.ReLU(),\n",
        "            nn.Linear(5, 5),\n",
        "            nn.ReLU(),\n",
        "            nn.Linear(5, 5),\n",
        "            nn.ReLU(),\n",
        "            nn.Linear(5, out_size),\n",
        "            )\n",
        "\n",
        "    def forward(self, x):\n",
        "        # x = self.flatten(x)\n",
        "        logits = self.linear_relu_stack(x)\n",
        "        return logits"
      ]
    },
    {
      "cell_type": "code",
      "execution_count": null,
      "metadata": {
        "colab": {
          "base_uri": "https://localhost:8080/",
          "height": 85
        },
        "colab_type": "code",
        "id": "8d4fbAy0PAvb",
        "outputId": "9423589c-0cef-44ae-dc2c-2d58af7489e5"
      },
      "outputs": [],
      "source": [
        "# Define model\n",
        "model = NeuralNetwork(13, 1).to(device)"
      ]
    },
    {
      "cell_type": "code",
      "execution_count": null,
      "metadata": {
        "colab": {},
        "colab_type": "code",
        "id": "W_WMQ6VzzQND"
      },
      "outputs": [],
      "source": [
        "#Define the loss function\n",
        "loss_fun = nn.MSELoss()"
      ]
    },
    {
      "cell_type": "code",
      "execution_count": null,
      "metadata": {
        "colab": {},
        "colab_type": "code",
        "id": "hMDoPTq71vEl"
      },
      "outputs": [],
      "source": [
        "# Define Adam optimizer\n",
        "optimizer = torch.optim.Adam(model.parameters(), lr=learning_rate)"
      ]
    },
    {
      "cell_type": "code",
      "execution_count": null,
      "metadata": {
        "colab": {},
        "colab_type": "code",
        "id": "8rvo05ug2LyP"
      },
      "outputs": [],
      "source": [
        "# Utility function to train the model\n",
        "def lrmodel(num_epochs, model, loss_fun, optimizer, train_dl):\n",
        "    # train_dl.to(device)\n",
        "    # Repeat for given number of epochs\n",
        "    for epoch in range(num_epochs):\n",
        "        # Train with batches of data\n",
        "        for xb,yb in train_dl:\n",
        "            xb = xb.to(device)\n",
        "            yb = yb.to(device)\n",
        "            # 1. Generate predictions\n",
        "            pred = model(xb)\n",
        "            # 2. Calculate loss\n",
        "            loss = loss_fun(pred, yb)\n",
        "            # 3. Compute gradients\n",
        "            loss.backward()\n",
        "            # 4. Update parameters using gradients\n",
        "            optimizer.step()\n",
        "            # 5. Reset the gradients to zero\n",
        "            optimizer.zero_grad()\n",
        "            \n",
        "            wandb.log({\"loss\": loss})\n",
        "            # Optional\n",
        "            wandb.watch(model)\n",
        "            \n",
        "        # Print the progress\n",
        "        if (epoch+1) % progres_print_rate == 0:\n",
        "            print('Epoch [{}/{}], Loss: {:.4f}'.format(epoch+1, num_epochs, loss.item()))\n",
        "            validate_model(loader=validate_dataloader, model=model, loss_fun=loss_fun)\n",
        "            \n",
        "def validate_model(loader, model, loss_fun):                       \n",
        "    running_loss = 0.0                                        \n",
        "    model.eval()                                              \n",
        "    with torch.no_grad():                                     \n",
        "        for _, (xb, yb) in enumerate(loader):                     \n",
        "            xb = xb.to(device)                        \n",
        "            yb = yb.to(device)                                                                  \n",
        "            outputs = model(xb)                           \n",
        "            loss = loss_fun(outputs, yb)                 \n",
        "            running_loss = running_loss + loss.item()         \n",
        "            wandb.log({\"val_loss\": running_loss})\n",
        "            # Optional\n",
        "            wandb.watch(model)\n",
        "    mean_val_loss = ( running_loss )                  \n",
        "    print('Validation Loss:'  ,mean_val_loss)"
      ]
    },
    {
      "cell_type": "code",
      "execution_count": null,
      "metadata": {
        "colab": {
          "base_uri": "https://localhost:8080/",
          "height": 187
        },
        "colab_type": "code",
        "id": "6fozH3iN2zQs",
        "outputId": "883fabce-8345-4118-f46d-89073a89e80b"
      },
      "outputs": [],
      "source": [
        "#Training for 100 epochs\n",
        "lrmodel(epochs, model, loss_fun, optimizer, train_dataloader)\n"
      ]
    },
    {
      "cell_type": "code",
      "execution_count": null,
      "metadata": {
        "colab": {
          "base_uri": "https://localhost:8080/",
          "height": 136
        },
        "colab_type": "code",
        "id": "tqc2Wx6o4Z-g",
        "outputId": "f77a4ab1-331d-40f8-cf74-7f9e1749453a"
      },
      "outputs": [],
      "source": [
        "#Converting predictions from tensor objects into a list\n",
        "y_pred_test = model(x_test)\n",
        "y_pred_test = [y_pred_test[x].item() for x in range(len(y_pred_test))]\n",
        "# Comparing Actual and predicted values\n",
        "# print(numpy.multiply(y_test,1000))\n",
        "df = {}\n",
        "df['Actual Observation'] = np.multiply(y_test,1000)\n",
        "df['Predicted Salary'] = np.multiply(y_pred_test,1000) \n",
        "df = pd.DataFrame(df)\n",
        "print(df)"
      ]
    },
    {
      "cell_type": "code",
      "execution_count": null,
      "metadata": {
        "colab": {},
        "colab_type": "code",
        "id": "H9Nvxa6Y8KjI"
      },
      "outputs": [],
      "source": [
        "# Let's check how much we are off on average\n",
        "# y_pred = model(df_to_tensor(norm(train)))\n",
        "mae = mean_absolute_error(df['Actual Observation'], df['Predicted Salary'])\n",
        "\n",
        "print(f\"We are off on average by {round(mae, 2)} US dollars, while the mean price of a house in the dataset is {round(test_targets.mean()*1000, 2)}.\")"
      ]
    }
  ],
  "metadata": {
    "colab": {
      "name": "Linear_regression_example.ipynb",
      "provenance": []
    },
    "kernelspec": {
      "display_name": "Python 3",
      "name": "python3"
    },
    "language_info": {
      "codemirror_mode": {
        "name": "ipython",
        "version": 3
      },
      "file_extension": ".py",
      "mimetype": "text/x-python",
      "name": "python",
      "nbconvert_exporter": "python",
      "pygments_lexer": "ipython3",
      "version": "3.9.12"
    }
  },
  "nbformat": 4,
  "nbformat_minor": 0
}
