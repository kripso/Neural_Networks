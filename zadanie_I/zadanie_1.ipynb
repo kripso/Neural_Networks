{
 "cells": [
  {
   "cell_type": "markdown",
   "metadata": {},
   "source": [
    "# The Boston Housing Dataset"
   ]
  },
  {
   "cell_type": "markdown",
   "metadata": {},
   "source": [
    "This dataset contains information collected by the U.S Census Service concerning housing in the area of Boston Mass. \n",
    "\n",
    "We use this dataset to predict Median value of owner-occupied homes (MEDV) based on remaining atributes.\n",
    "We are performing classical regression task. \n",
    "\n",
    "## Atributes:\n",
    "There are 14 attributes in each case of the dataset. They are:\n",
    "\n",
    "| Attribute | Explanation |\n",
    "| :--------- | :----------- |\n",
    "| CRIM | per capita crime rate by town |\n",
    "| ZN | proportion of residential land zoned for lots over 25,000 sq.ft. |\n",
    "| INDUS | proportion of non-retail business acres per town. |\n",
    "| CHAS | Charles River dummy variable (1 if tract bounds river; 0 otherwise) |\n",
    "| NOX | nitric oxides concentration (parts per 10 million) |\n",
    "| RM | average number of rooms per dwelling |\n",
    "| AGE | proportion of owner-occupied units built prior to 1940 |\n",
    "| DIS | weighted distances to five Boston employment centres |\n",
    "| RAD | index of accessibility to radial highways |\n",
    "| TAX | full-value property-tax rate per 10,000 dollars |\n",
    "| PTRATIO | pupil-teacher ratio by town |\n",
    "| B | 1000(Bk - 0.63)^2 where Bk is the proportion of blacks by town |\n",
    "| LSTAT | % lower status of the population |\n",
    "| MEDV | Median value of owner-occupied homes in 1000's dollars |"
   ]
  },
  {
   "cell_type": "code",
   "execution_count": 30,
   "metadata": {},
   "outputs": [],
   "source": [
    "from torch.utils.data import DataLoader, TensorDataset, random_split\n",
    "from sklearn.model_selection import train_test_split\n",
    "from sklearn.metrics import mean_absolute_error\n",
    "from wandb.keras import WandbCallback\n",
    "from tensorflow.keras import layers\n",
    "import matplotlib.pyplot as plt\n",
    "from tensorflow import keras\n",
    "import tensorflow as tf\n",
    "import seaborn as sns\n",
    "from torch import nn\n",
    "import pandas as pd\n",
    "import numpy as np\n",
    "import torch\n",
    "import wandb"
   ]
  },
  {
   "cell_type": "code",
   "execution_count": 31,
   "metadata": {},
   "outputs": [
    {
     "name": "stderr",
     "output_type": "stream",
     "text": [
      "\u001b[34m\u001b[1mwandb\u001b[0m: \u001b[33mWARNING\u001b[0m Calling wandb.login() after wandb.init() has no effect.\n"
     ]
    },
    {
     "data": {
      "text/html": [
       "Finishing last run (ID:18i3gl6d) before initializing another..."
      ],
      "text/plain": [
       "<IPython.core.display.HTML object>"
      ]
     },
     "metadata": {},
     "output_type": "display_data"
    },
    {
     "name": "stdout",
     "output_type": "stream",
     "text": [
      "\n"
     ]
    },
    {
     "data": {
      "text/html": [
       "Waiting for W&B process to finish... <strong style=\"color:green\">(success).</strong>"
      ],
      "text/plain": [
       "<IPython.core.display.HTML object>"
      ]
     },
     "metadata": {},
     "output_type": "display_data"
    },
    {
     "data": {
      "text/html": [
       "<style>\n",
       "    table.wandb td:nth-child(1) { padding: 0 10px; text-align: right }\n",
       "    .wandb-row { display: flex; flex-direction: row; flex-wrap: wrap; width: 100% }\n",
       "    .wandb-col { display: flex; flex-direction: column; flex-basis: 100%; flex: 1; padding: 10px; }\n",
       "    </style>\n",
       "<div class=\"wandb-row\"><div class=\"wandb-col\"><h3>Run history:</h3><br/><table class=\"wandb\"><tr><td>epoch</td><td>▁▁▁▁▂▂▂▂▂▃▃▃▃▃▃▄▄▄▄▄▅▅▅▅▅▅▆▆▆▆▆▇▇▇▇▇▇███</td></tr><tr><td>loss</td><td>▇▂▁▁▁▁▁▁▁▁▁▁▁▁▁▁▁▁▁▁███▇▇▆▄▃▂▂▂▁▁▁▁▁▁▁▁▁</td></tr><tr><td>val_loss</td><td>█▅▁▁▁▁▁▁▁▁▁▁▁▁▁▁▁▁▁▁▁▁▁▁▁▁▁▁▁▁▁▁▁▁▁▁▆▂▁▁</td></tr></table><br/></div><div class=\"wandb-col\"><h3>Run summary:</h3><br/><table class=\"wandb\"><tr><td>best_epoch</td><td>29</td></tr><tr><td>best_val_loss</td><td>5.08502</td></tr><tr><td>epoch</td><td>99</td></tr><tr><td>loss</td><td>22.09881</td></tr><tr><td>val_loss</td><td>43.36726</td></tr></table><br/></div></div>"
      ],
      "text/plain": [
       "<IPython.core.display.HTML object>"
      ]
     },
     "metadata": {},
     "output_type": "display_data"
    },
    {
     "data": {
      "text/html": [
       "Synced <strong style=\"color:#cdcd00\">comic-fire-1</strong>: <a href=\"https://wandb.ai/kripsoworld/boston-housing-regression/runs/18i3gl6d\" target=\"_blank\">https://wandb.ai/kripsoworld/boston-housing-regression/runs/18i3gl6d</a><br/>Synced 5 W&B file(s), 0 media file(s), 0 artifact file(s) and 1 other file(s)"
      ],
      "text/plain": [
       "<IPython.core.display.HTML object>"
      ]
     },
     "metadata": {},
     "output_type": "display_data"
    },
    {
     "data": {
      "text/html": [
       "Find logs at: <code>.\\wandb\\run-20220322_175215-18i3gl6d\\logs</code>"
      ],
      "text/plain": [
       "<IPython.core.display.HTML object>"
      ]
     },
     "metadata": {},
     "output_type": "display_data"
    },
    {
     "data": {
      "text/html": [
       "Successfully finished last run (ID:18i3gl6d). Initializing new run:<br/>"
      ],
      "text/plain": [
       "<IPython.core.display.HTML object>"
      ]
     },
     "metadata": {},
     "output_type": "display_data"
    },
    {
     "data": {
      "text/html": [
       "Tracking run with wandb version 0.12.11"
      ],
      "text/plain": [
       "<IPython.core.display.HTML object>"
      ]
     },
     "metadata": {},
     "output_type": "display_data"
    },
    {
     "data": {
      "text/html": [
       "Run data is saved locally in <code>c:\\Users\\Krips\\Documents\\Programing\\Neural_Networks\\zadanie_I\\wandb\\run-20220322_175719-2zg6gz3q</code>"
      ],
      "text/plain": [
       "<IPython.core.display.HTML object>"
      ]
     },
     "metadata": {},
     "output_type": "display_data"
    },
    {
     "data": {
      "text/html": [
       "Syncing run <strong><a href=\"https://wandb.ai/kripsoworld/boston-housing-regression/runs/2zg6gz3q\" target=\"_blank\">vocal-morning-2</a></strong> to <a href=\"https://wandb.ai/kripsoworld/boston-housing-regression\" target=\"_blank\">Weights & Biases</a> (<a href=\"https://wandb.me/run\" target=\"_blank\">docs</a>)<br/>"
      ],
      "text/plain": [
       "<IPython.core.display.HTML object>"
      ]
     },
     "metadata": {},
     "output_type": "display_data"
    }
   ],
   "source": [
    "config = dict(\n",
    "    data_flag = 'boston-housing',\n",
    "    epochs = 100,\n",
    "    learning_rate = 0.01,\n",
    "    optimizer = 'adam',\n",
    "    loss_fn = 'mse'\n",
    ")\n",
    "\n",
    "wandb.login()\n",
    "wandb.init(project='boston-housing-regression', config=config)\n",
    "\n",
    "# Make numpy printouts easier to read.\n",
    "np.set_printoptions(precision=3, suppress=True)"
   ]
  },
  {
   "cell_type": "code",
   "execution_count": 32,
   "metadata": {},
   "outputs": [
    {
     "name": "stdout",
     "output_type": "stream",
     "text": [
      "TF:  2.8.0\n",
      "W&B:  0.12.11\n"
     ]
    }
   ],
   "source": [
    "print(\"TF: \", tf.__version__)\n",
    "print(\"W&B: \", wandb.__version__)"
   ]
  },
  {
   "cell_type": "markdown",
   "metadata": {},
   "source": [
    "### Get dataset\n",
    "Import downloaded dataset using pandas"
   ]
  },
  {
   "cell_type": "code",
   "execution_count": 33,
   "metadata": {},
   "outputs": [],
   "source": [
    "column_names = ['CRIM', 'ZN', 'INDUS', 'CHAS', 'NOX', 'RM', 'AGE', 'DIS', 'RAD', 'TAX', 'PTRATIO', 'B', 'LSTAT', 'MEDV']\n",
    "data_raw = pd.read_csv('./data/housing.csv', header=None, delimiter=r\"\\s+\", names=column_names)\n",
    "\n",
    "data = data_raw.copy()"
   ]
  },
  {
   "cell_type": "markdown",
   "metadata": {},
   "source": [
    "### Split the data into train, validate and test\n",
    "\n",
    "Split the dataset into a training set, validation set a test set, **in ratio of 80:10:10**\n",
    "\n",
    "We will use the test set in the final evaluation of our model"
   ]
  },
  {
   "cell_type": "code",
   "execution_count": 34,
   "metadata": {},
   "outputs": [],
   "source": [
    "train_data = data.sample(frac=0.9, random_state=0)\n",
    "test_data = data.drop(train_data.index)"
   ]
  },
  {
   "cell_type": "markdown",
   "metadata": {},
   "source": [
    "### Inspect the data\n",
    "\n",
    "Have a quick look at the joint distribution of a few pairs of columns from the training set."
   ]
  },
  {
   "cell_type": "code",
   "execution_count": null,
   "metadata": {},
   "outputs": [],
   "source": [
    "sns.pairplot(train_data[['MEDV', 'NOX', 'CRIM', 'TAX', 'RM']], diag_kind='kde')"
   ]
  },
  {
   "cell_type": "markdown",
   "metadata": {},
   "source": [
    "Also look at the overall statistics:"
   ]
  },
  {
   "cell_type": "code",
   "execution_count": 35,
   "metadata": {},
   "outputs": [],
   "source": [
    "train_stats = train_data.describe()\n",
    "train_stats.pop(\"MEDV\")\n",
    "train_stats = train_stats.transpose()\n",
    "# train_stats"
   ]
  },
  {
   "cell_type": "markdown",
   "metadata": {},
   "source": [
    "### Split features from labels\n",
    "\n",
    "Separate the target value (labels), from the features. Label is the value that we will train the model to predict."
   ]
  },
  {
   "cell_type": "code",
   "execution_count": 36,
   "metadata": {},
   "outputs": [],
   "source": [
    "train_labels = train_data.pop('MEDV')\n",
    "test_labels = test_data.pop('MEDV')"
   ]
  },
  {
   "cell_type": "markdown",
   "metadata": {},
   "source": [
    "### Normalize the data\n",
    "\n",
    "If we look at `train_stats` we see that our features are quite different in ranges. That's why we normalize data. It also helps to prevent model from being dependent of units of input data.\n",
    "We also need to project the test dataset into the same distribution that the model has been trained on, so we normalize both train and test data.\n",
    "\n",
    "This normalized data is what we will use to train and test the model."
   ]
  },
  {
   "cell_type": "code",
   "execution_count": 37,
   "metadata": {},
   "outputs": [],
   "source": [
    "def norm(x):\n",
    "  return (x - train_stats['mean']) / train_stats['std']\n",
    "normed_train_data = norm(train_data)\n",
    "normed_test_data = norm(test_data)"
   ]
  },
  {
   "cell_type": "markdown",
   "metadata": {},
   "source": [
    "## The Keras model\n",
    "\n",
    "### MPL Architecture\n",
    "\n",
    "We'll create our model layer-by-layer, so we use a Sequential model with: \n",
    "\n",
    "- The normalization layer for a multiple-input model\n",
    "- Two hidden, non-linear, Dense layers with the ReLU (relu) activation function.\n",
    "- A linear Dense single-output layer.\n",
    "\n",
    "Explanation:\n",
    "\n",
    "- Number of input neurons is equal to number input features, in our case it's 13.\n",
    "- To add non-linearity to regression function, we use two extra hidden layers, 5 neurons each.\n",
    "- Since we are interested only in price (single value), one output neuron is enought.\n",
    "\n",
    "Shape of our network is similar to funnel, since we are trying to concentrate many information into single value."
   ]
  },
  {
   "cell_type": "code",
   "execution_count": 3,
   "metadata": {},
   "outputs": [],
   "source": [
    "def build_model(config):\n",
    "  model = keras.Sequential([\n",
    "    layers.Dense(13, input_shape=(13,), activation='relu'),\n",
    "    layers.Dense(5, activation='relu'),\n",
    "    layers.Dense(5, activation='relu'),\n",
    "    # regression - no activation function in needed the last layer\n",
    "    layers.Dense(1)\n",
    "  ])\n",
    "\n",
    "  model.compile(loss=config['loss_fn'],\n",
    "                optimizer=tf.optimizers.Adam(learning_rate=config['learning_rate']))\n",
    "                # optimizer = tf.keras.optimizers.RMSprop(0.001))\n",
    "  return model"
   ]
  },
  {
   "cell_type": "code",
   "execution_count": 39,
   "metadata": {},
   "outputs": [],
   "source": [
    "model = build_model(config)"
   ]
  },
  {
   "cell_type": "markdown",
   "metadata": {},
   "source": [
    "### Inspect the model\n",
    "\n",
    "Use the .summary method to print a simple description of the model"
   ]
  },
  {
   "cell_type": "code",
   "execution_count": null,
   "metadata": {},
   "outputs": [],
   "source": [
    "model.summary()"
   ]
  },
  {
   "cell_type": "markdown",
   "metadata": {},
   "source": [
    "### Train the model\n",
    "\n",
    "Train the model for 100 epochs, and record the training and validation accuracy in the history object as well as to WandB API\n",
    "\n",
    "Have closer look at parameter `validation_split` that extracts validation set from trainnig samples"
   ]
  },
  {
   "cell_type": "code",
   "execution_count": 40,
   "metadata": {},
   "outputs": [
    {
     "name": "stdout",
     "output_type": "stream",
     "text": [
      "CPU times: total: 1min 11s\n",
      "Wall time: 54.2 s\n"
     ]
    }
   ],
   "source": [
    "%%time\n",
    "\n",
    "history = model.fit(\n",
    "  normed_train_data, train_labels,\n",
    "  epochs=config['epochs'], validation_split=0.11, verbose=0, callbacks=[WandbCallback()])\n"
   ]
  },
  {
   "cell_type": "code",
   "execution_count": 41,
   "metadata": {},
   "outputs": [
    {
     "data": {
      "text/plain": [
       "[<matplotlib.lines.Line2D at 0x1fb7150ccd0>]"
      ]
     },
     "execution_count": 41,
     "metadata": {},
     "output_type": "execute_result"
    },
    {
     "data": {
      "image/png": "[encoded data removed]",
      "text/plain": [
       "<Figure size 1080x576 with 1 Axes>"
      ]
     },
     "metadata": {
      "needs_background": "light"
     },
     "output_type": "display_data"
    }
   ],
   "source": [
    "plt.figure(figsize=(15,8))\n",
    "\n",
    "plt.xlabel('Epoch')\n",
    "plt.ylabel('MSE [MEDV]')\n",
    "\n",
    "plt.plot(model.history.history['loss'][:])\n",
    "plt.plot(model.history.history['val_loss'][:])"
   ]
  },
  {
   "cell_type": "markdown",
   "metadata": {},
   "source": [
    "### Validate model\n",
    "\n",
    "Finally, predict MEDV values using data in the testing set and compare MAE of predicted values with mean of all house prices:"
   ]
  },
  {
   "cell_type": "code",
   "execution_count": 42,
   "metadata": {},
   "outputs": [
    {
     "name": "stdout",
     "output_type": "stream",
     "text": [
      "We are off on average by 1994.83 US dollars, while the mean price of a house in the dataset is 22532.81.\n"
     ]
    }
   ],
   "source": [
    "prediction_2d = model.predict(normed_test_data)\n",
    "mae = mean_absolute_error(test_labels, prediction_2d)\n",
    "\n",
    "print(f\"We are off on average by {round(mae * 1000, 2)} US dollars, while the mean price of a house in the dataset is {round(data['MEDV'].mean() * 1000, 2)}.\")"
   ]
  },
  {
   "cell_type": "markdown",
   "metadata": {},
   "source": [
    "Visualization of predicted values compared to real ones from test set"
   ]
  },
  {
   "cell_type": "code",
   "execution_count": 1,
   "metadata": {},
   "outputs": [
    {
     "ename": "NameError",
     "evalue": "name 'model' is not defined",
     "output_type": "error",
     "traceback": [
      "\u001b[0;31m---------------------------------------------------------------------------\u001b[0m",
      "\u001b[0;31mNameError\u001b[0m                                 Traceback (most recent call last)",
      "\u001b[0;32m/tmp/ipykernel_15755/3097083293.py\u001b[0m in \u001b[0;36m<module>\u001b[0;34m\u001b[0m\n\u001b[0;32m----> 1\u001b[0;31m \u001b[0mprediction_1d\u001b[0m \u001b[0;34m=\u001b[0m \u001b[0mmodel\u001b[0m\u001b[0;34m.\u001b[0m\u001b[0mpredict\u001b[0m\u001b[0;34m(\u001b[0m\u001b[0mnormed_test_data\u001b[0m\u001b[0;34m)\u001b[0m\u001b[0;34m.\u001b[0m\u001b[0mflatten\u001b[0m\u001b[0;34m(\u001b[0m\u001b[0;34m)\u001b[0m\u001b[0;34m\u001b[0m\u001b[0;34m\u001b[0m\u001b[0m\n\u001b[0m\u001b[1;32m      2\u001b[0m \u001b[0;34m\u001b[0m\u001b[0m\n\u001b[1;32m      3\u001b[0m \u001b[0ma\u001b[0m \u001b[0;34m=\u001b[0m \u001b[0mplt\u001b[0m\u001b[0;34m.\u001b[0m\u001b[0maxes\u001b[0m\u001b[0;34m(\u001b[0m\u001b[0maspect\u001b[0m\u001b[0;34m=\u001b[0m\u001b[0;34m'equal'\u001b[0m\u001b[0;34m)\u001b[0m\u001b[0;34m\u001b[0m\u001b[0;34m\u001b[0m\u001b[0m\n\u001b[1;32m      4\u001b[0m \u001b[0mplt\u001b[0m\u001b[0;34m.\u001b[0m\u001b[0mscatter\u001b[0m\u001b[0;34m(\u001b[0m\u001b[0mtest_labels\u001b[0m\u001b[0;34m,\u001b[0m \u001b[0mprediction_1d\u001b[0m\u001b[0;34m)\u001b[0m\u001b[0;34m\u001b[0m\u001b[0;34m\u001b[0m\u001b[0m\n\u001b[1;32m      5\u001b[0m \u001b[0mplt\u001b[0m\u001b[0;34m.\u001b[0m\u001b[0mxlabel\u001b[0m\u001b[0;34m(\u001b[0m\u001b[0;34m'True Values [MEDV]'\u001b[0m\u001b[0;34m)\u001b[0m\u001b[0;34m\u001b[0m\u001b[0;34m\u001b[0m\u001b[0m\n",
      "\u001b[0;31mNameError\u001b[0m: name 'model' is not defined"
     ]
    }
   ],
   "source": [
    "prediction_1d = model.predict(normed_test_data).flatten()\n",
    "\n",
    "a = plt.axes(aspect='equal')\n",
    "plt.scatter(test_labels, prediction_1d)\n",
    "plt.xlabel('True Values [MEDV]')\n",
    "plt.ylabel('Predictions [MEDV]')\n",
    "lims = [0, 50]\n",
    "plt.xlim(lims)\n",
    "plt.ylim(lims)\n",
    "_ = plt.plot(lims, lims)"
   ]
  },
  {
   "cell_type": "markdown",
   "metadata": {},
   "source": [
    "Visualization of many predictions were off by prediciton error"
   ]
  },
  {
   "cell_type": "code",
   "execution_count": null,
   "metadata": {},
   "outputs": [],
   "source": [
    "error = prediction_1d - test_labels\n",
    "plt.hist(error, bins = 25)\n",
    "plt.xlabel(\"Prediction Error [MEDV]\")\n",
    "_ = plt.ylabel(\"Count\")"
   ]
  },
  {
   "cell_type": "markdown",
   "metadata": {},
   "source": [
    "Some predicted values:"
   ]
  },
  {
   "cell_type": "markdown",
   "metadata": {},
   "source": [
    "## The Pytorch model\n"
   ]
  },
  {
   "cell_type": "code",
   "execution_count": 43,
   "metadata": {},
   "outputs": [
    {
     "name": "stdout",
     "output_type": "stream",
     "text": [
      "cuda\n"
     ]
    }
   ],
   "source": [
    "progres_print_rate = 10\n",
    "batch_size = 1024\n",
    "\n",
    "device = \"cuda\" if torch.cuda.is_available() else \"cpu\"\n",
    "# device = 'cpu'\n",
    "print(device)"
   ]
  },
  {
   "cell_type": "code",
   "execution_count": 44,
   "metadata": {},
   "outputs": [],
   "source": [
    "data = data_raw.copy()\n",
    "\n",
    "train, _test = train_test_split(data,  test_size = 0.2, shuffle=True)\n",
    "test, validate = train_test_split(_test, test_size = 0.5)\n",
    "\n",
    "train_targets = train.pop(\"MEDV\")\n",
    "test_targets = test.pop(\"MEDV\")\n",
    "validate_targets = validate.pop('MEDV')\n",
    "\n",
    "train_stats = train.describe()\n",
    "train_stats = train_stats.transpose()"
   ]
  },
  {
   "cell_type": "code",
   "execution_count": 45,
   "metadata": {},
   "outputs": [],
   "source": [
    "def df_to_tensor(df):\n",
    "    return torch.from_numpy(df.values).float().to(device)"
   ]
  },
  {
   "cell_type": "code",
   "execution_count": 46,
   "metadata": {},
   "outputs": [],
   "source": [
    "train_dataset = TensorDataset(df_to_tensor(norm(train)), torch.Tensor([[x] for x in list(train_targets)]))\n",
    "validate_dataset = TensorDataset(df_to_tensor(norm(validate)), torch.Tensor([[x] for x in list(validate_targets)]))\n",
    "x_test, y_test = (df_to_tensor(norm(test)),[x for x in list(test_targets)])\n",
    "\n",
    "train_dataloader = DataLoader(train_dataset,batch_size=batch_size)\n",
    "validate_dataloader = DataLoader(validate_dataset,batch_size=batch_size)"
   ]
  },
  {
   "cell_type": "code",
   "execution_count": 47,
   "metadata": {},
   "outputs": [],
   "source": [
    "class NeuralNetwork(nn.Module):\n",
    "    def __init__(self,in_size, out_size):\n",
    "        super(NeuralNetwork, self).__init__()\n",
    "        # self.flatten = nn.Flatten()\n",
    "        self.linear_relu_stack = nn.Sequential(\n",
    "            nn.Linear(in_size, 5),\n",
    "            nn.ReLU(),\n",
    "            nn.Linear(5, 5),\n",
    "            nn.ReLU(),\n",
    "            nn.Linear(5, 5),\n",
    "            nn.ReLU(),\n",
    "            nn.Linear(5, out_size),\n",
    "            )\n",
    "\n",
    "    def forward(self, x):\n",
    "        # x = self.flatten(x)\n",
    "        logits = self.linear_relu_stack(x)\n",
    "        return logits"
   ]
  },
  {
   "cell_type": "code",
   "execution_count": 48,
   "metadata": {},
   "outputs": [],
   "source": [
    "model = NeuralNetwork(13, 1).to(device)\n",
    "loss_fun = nn.MSELoss()\n",
    "optimizer = torch.optim.Adam(model.parameters(), lr=config['learning_rate'])"
   ]
  },
  {
   "cell_type": "code",
   "execution_count": 49,
   "metadata": {},
   "outputs": [],
   "source": [
    "# Utility function to train the model\n",
    "def fit(num_epochs, model, loss_fun, optimizer, train_dl):\n",
    "    # train_dl.to(device)\n",
    "    # Repeat for given number of epochs\n",
    "    for epoch in range(num_epochs):\n",
    "        # Train with batches of data\n",
    "        for xb,yb in train_dl:\n",
    "            xb = xb.to(device)\n",
    "            yb = yb.to(device)\n",
    "            # 1. Generate predictions\n",
    "            pred = model(xb)\n",
    "            # 2. Calculate loss\n",
    "            loss = loss_fun(pred, yb)\n",
    "            # 3. Compute gradients\n",
    "            loss.backward()\n",
    "            # 4. Update parameters using gradients\n",
    "            optimizer.step()\n",
    "            # 5. Reset the gradients to zero\n",
    "            optimizer.zero_grad()\n",
    "            \n",
    "            wandb.log({\"loss\": loss})\n",
    "            # Optional\n",
    "            wandb.watch(model)\n",
    "            \n",
    "        # Print the progress\n",
    "        if (epoch+1) % progres_print_rate == 0:\n",
    "            print('Epoch [{}/{}], Loss: {:.4f}'.format(epoch+1, num_epochs, loss.item()))\n",
    "            validate_model(loader=validate_dataloader, model=model, loss_fun=loss_fun)\n",
    "            \n",
    "def validate_model(loader, model, loss_fun):                       \n",
    "    running_loss = 0.0                                        \n",
    "    model.eval()                                              \n",
    "    with torch.no_grad():                                     \n",
    "        for _, (xb, yb) in enumerate(loader):                     \n",
    "            xb = xb.to(device)                        \n",
    "            yb = yb.to(device)                                                                  \n",
    "            outputs = model(xb)                           \n",
    "            loss = loss_fun(outputs, yb)                 \n",
    "            running_loss = running_loss + loss.item()         \n",
    "            wandb.log({\"val_loss\": running_loss})\n",
    "            # Optional\n",
    "            wandb.watch(model)\n",
    "    mean_val_loss = ( running_loss )                  \n",
    "    print('Validation Loss:'  ,mean_val_loss)"
   ]
  },
  {
   "cell_type": "code",
   "execution_count": 50,
   "metadata": {},
   "outputs": [
    {
     "name": "stdout",
     "output_type": "stream",
     "text": [
      "Epoch [10/1000], Loss: 607.8959\n",
      "Validation Loss: 539.06201171875\n",
      "Epoch [20/1000], Loss: 593.0089\n",
      "Validation Loss: 523.8832397460938\n",
      "Epoch [30/1000], Loss: 552.0532\n",
      "Validation Loss: 480.1613464355469\n",
      "Epoch [40/1000], Loss: 436.1812\n",
      "Validation Loss: 357.9640808105469\n",
      "Epoch [50/1000], Loss: 211.4012\n",
      "Validation Loss: 148.34249877929688\n",
      "Epoch [60/1000], Loss: 132.3533\n",
      "Validation Loss: 133.7445526123047\n",
      "Epoch [70/1000], Loss: 84.2288\n",
      "Validation Loss: 84.18170166015625\n",
      "Epoch [80/1000], Loss: 61.5814\n",
      "Validation Loss: 65.39817810058594\n",
      "Epoch [90/1000], Loss: 43.9441\n",
      "Validation Loss: 58.13558578491211\n",
      "Epoch [100/1000], Loss: 32.6403\n",
      "Validation Loss: 48.28141403198242\n",
      "Epoch [110/1000], Loss: 26.7489\n",
      "Validation Loss: 44.73224639892578\n",
      "Epoch [120/1000], Loss: 24.1814\n",
      "Validation Loss: 43.0447883605957\n",
      "Epoch [130/1000], Loss: 22.9991\n",
      "Validation Loss: 41.25254821777344\n",
      "Epoch [140/1000], Loss: 22.1506\n",
      "Validation Loss: 40.182064056396484\n",
      "Epoch [150/1000], Loss: 21.3749\n",
      "Validation Loss: 38.822410583496094\n",
      "Epoch [160/1000], Loss: 20.6989\n",
      "Validation Loss: 37.40577697753906\n",
      "Epoch [170/1000], Loss: 20.1441\n",
      "Validation Loss: 36.274723052978516\n",
      "Epoch [180/1000], Loss: 19.6814\n",
      "Validation Loss: 35.33627700805664\n",
      "Epoch [190/1000], Loss: 19.2647\n",
      "Validation Loss: 34.49998474121094\n",
      "Epoch [200/1000], Loss: 18.8730\n",
      "Validation Loss: 33.70164108276367\n",
      "Epoch [210/1000], Loss: 18.4906\n",
      "Validation Loss: 32.976585388183594\n",
      "Epoch [220/1000], Loss: 18.1008\n",
      "Validation Loss: 32.33971405029297\n",
      "Epoch [230/1000], Loss: 17.7117\n",
      "Validation Loss: 31.65951156616211\n",
      "Epoch [240/1000], Loss: 17.3203\n",
      "Validation Loss: 30.9820499420166\n",
      "Epoch [250/1000], Loss: 16.9262\n",
      "Validation Loss: 30.36703109741211\n",
      "Epoch [260/1000], Loss: 16.4792\n",
      "Validation Loss: 29.823108673095703\n",
      "Epoch [270/1000], Loss: 15.9858\n",
      "Validation Loss: 29.240201950073242\n",
      "Epoch [280/1000], Loss: 15.4349\n",
      "Validation Loss: 28.661149978637695\n",
      "Epoch [290/1000], Loss: 14.8024\n",
      "Validation Loss: 27.91577911376953\n",
      "Epoch [300/1000], Loss: 14.0952\n",
      "Validation Loss: 26.63819122314453\n",
      "Epoch [310/1000], Loss: 13.3223\n",
      "Validation Loss: 25.30574607849121\n",
      "Epoch [320/1000], Loss: 12.5882\n",
      "Validation Loss: 24.1984920501709\n",
      "Epoch [330/1000], Loss: 11.9259\n",
      "Validation Loss: 23.42340087890625\n",
      "Epoch [340/1000], Loss: 11.3703\n",
      "Validation Loss: 22.82712745666504\n",
      "Epoch [350/1000], Loss: 10.9047\n",
      "Validation Loss: 22.31395149230957\n",
      "Epoch [360/1000], Loss: 10.5183\n",
      "Validation Loss: 21.845874786376953\n",
      "Epoch [370/1000], Loss: 10.1716\n",
      "Validation Loss: 21.445390701293945\n",
      "Epoch [380/1000], Loss: 9.8646\n",
      "Validation Loss: 21.22913360595703\n",
      "Epoch [390/1000], Loss: 9.5677\n",
      "Validation Loss: 20.971920013427734\n",
      "Epoch [400/1000], Loss: 9.3061\n",
      "Validation Loss: 20.753662109375\n",
      "Epoch [410/1000], Loss: 9.1132\n",
      "Validation Loss: 20.32025146484375\n",
      "Epoch [420/1000], Loss: 8.9518\n",
      "Validation Loss: 20.057514190673828\n",
      "Epoch [430/1000], Loss: 8.8085\n",
      "Validation Loss: 19.762271881103516\n",
      "Epoch [440/1000], Loss: 8.6749\n",
      "Validation Loss: 19.43219566345215\n",
      "Epoch [450/1000], Loss: 8.5547\n",
      "Validation Loss: 19.184335708618164\n",
      "Epoch [460/1000], Loss: 8.4493\n",
      "Validation Loss: 18.95906639099121\n",
      "Epoch [470/1000], Loss: 8.3573\n",
      "Validation Loss: 18.740386962890625\n",
      "Epoch [480/1000], Loss: 8.2721\n",
      "Validation Loss: 18.59061050415039\n",
      "Epoch [490/1000], Loss: 8.1927\n",
      "Validation Loss: 18.4167537689209\n",
      "Epoch [500/1000], Loss: 8.1170\n",
      "Validation Loss: 18.254745483398438\n",
      "Epoch [510/1000], Loss: 8.0489\n",
      "Validation Loss: 18.137027740478516\n",
      "Epoch [520/1000], Loss: 7.9820\n",
      "Validation Loss: 18.041296005249023\n",
      "Epoch [530/1000], Loss: 7.9249\n",
      "Validation Loss: 17.85091781616211\n",
      "Epoch [540/1000], Loss: 7.8734\n",
      "Validation Loss: 17.714372634887695\n",
      "Epoch [550/1000], Loss: 7.8248\n",
      "Validation Loss: 17.59857177734375\n",
      "Epoch [560/1000], Loss: 7.7793\n",
      "Validation Loss: 17.472301483154297\n",
      "Epoch [570/1000], Loss: 7.7389\n",
      "Validation Loss: 17.359785079956055\n",
      "Epoch [580/1000], Loss: 7.7012\n",
      "Validation Loss: 17.258827209472656\n",
      "Epoch [590/1000], Loss: 7.6457\n",
      "Validation Loss: 17.1445369720459\n",
      "Epoch [600/1000], Loss: 7.6057\n",
      "Validation Loss: 17.047426223754883\n",
      "Epoch [610/1000], Loss: 7.5698\n",
      "Validation Loss: 16.927597045898438\n",
      "Epoch [620/1000], Loss: 7.5375\n",
      "Validation Loss: 16.85799217224121\n",
      "Epoch [630/1000], Loss: 7.5084\n",
      "Validation Loss: 16.742773056030273\n",
      "Epoch [640/1000], Loss: 7.4840\n",
      "Validation Loss: 16.664569854736328\n",
      "Epoch [650/1000], Loss: 7.4623\n",
      "Validation Loss: 16.574411392211914\n",
      "Epoch [660/1000], Loss: 7.4367\n",
      "Validation Loss: 16.496868133544922\n",
      "Epoch [670/1000], Loss: 7.4135\n",
      "Validation Loss: 16.42158317565918\n",
      "Epoch [680/1000], Loss: 7.3935\n",
      "Validation Loss: 16.343130111694336\n",
      "Epoch [690/1000], Loss: 7.3710\n",
      "Validation Loss: 16.27123260498047\n",
      "Epoch [700/1000], Loss: 7.3500\n",
      "Validation Loss: 16.194902420043945\n",
      "Epoch [710/1000], Loss: 7.3324\n",
      "Validation Loss: 16.14371109008789\n",
      "Epoch [720/1000], Loss: 7.3118\n",
      "Validation Loss: 16.09335708618164\n",
      "Epoch [730/1000], Loss: 7.2936\n",
      "Validation Loss: 16.0346622467041\n",
      "Epoch [740/1000], Loss: 7.2796\n",
      "Validation Loss: 15.95654582977295\n",
      "Epoch [750/1000], Loss: 7.2613\n",
      "Validation Loss: 15.922088623046875\n",
      "Epoch [760/1000], Loss: 7.2458\n",
      "Validation Loss: 15.82788372039795\n",
      "Epoch [770/1000], Loss: 7.2296\n",
      "Validation Loss: 15.776643753051758\n",
      "Epoch [780/1000], Loss: 7.2112\n",
      "Validation Loss: 15.732232093811035\n",
      "Epoch [790/1000], Loss: 7.1942\n",
      "Validation Loss: 15.6575288772583\n",
      "Epoch [800/1000], Loss: 7.1766\n",
      "Validation Loss: 15.63685417175293\n",
      "Epoch [810/1000], Loss: 7.1638\n",
      "Validation Loss: 15.592246055603027\n",
      "Epoch [820/1000], Loss: 7.1434\n",
      "Validation Loss: 15.537163734436035\n",
      "Epoch [830/1000], Loss: 7.1292\n",
      "Validation Loss: 15.517853736877441\n",
      "Epoch [840/1000], Loss: 7.1117\n",
      "Validation Loss: 15.503349304199219\n",
      "Epoch [850/1000], Loss: 7.0971\n",
      "Validation Loss: 15.441479682922363\n",
      "Epoch [860/1000], Loss: 7.0820\n",
      "Validation Loss: 15.417190551757812\n",
      "Epoch [870/1000], Loss: 7.0682\n",
      "Validation Loss: 15.355155944824219\n",
      "Epoch [880/1000], Loss: 7.0554\n",
      "Validation Loss: 15.330437660217285\n",
      "Epoch [890/1000], Loss: 7.0407\n",
      "Validation Loss: 15.30134391784668\n",
      "Epoch [900/1000], Loss: 7.0288\n",
      "Validation Loss: 15.279019355773926\n",
      "Epoch [910/1000], Loss: 7.0130\n",
      "Validation Loss: 15.210174560546875\n",
      "Epoch [920/1000], Loss: 6.9978\n",
      "Validation Loss: 15.180248260498047\n",
      "Epoch [930/1000], Loss: 6.9821\n",
      "Validation Loss: 15.17322826385498\n",
      "Epoch [940/1000], Loss: 6.9674\n",
      "Validation Loss: 15.117743492126465\n",
      "Epoch [950/1000], Loss: 6.9505\n",
      "Validation Loss: 15.101828575134277\n",
      "Epoch [960/1000], Loss: 6.9357\n",
      "Validation Loss: 15.071236610412598\n",
      "Epoch [970/1000], Loss: 6.9217\n",
      "Validation Loss: 15.05586051940918\n",
      "Epoch [980/1000], Loss: 6.9059\n",
      "Validation Loss: 14.999419212341309\n",
      "Epoch [990/1000], Loss: 6.8874\n",
      "Validation Loss: 14.959686279296875\n",
      "Epoch [1000/1000], Loss: 6.8714\n",
      "Validation Loss: 14.91527271270752\n"
     ]
    }
   ],
   "source": [
    "fit(config['epochs'], model, loss_fun, optimizer, train_dataloader)"
   ]
  },
  {
   "cell_type": "code",
   "execution_count": 51,
   "metadata": {},
   "outputs": [
    {
     "name": "stdout",
     "output_type": "stream",
     "text": [
      "    Actual Prices  Predicted Prices\n",
      "0         21200.0      19997.655869\n",
      "1         28600.0      30208.589554\n",
      "2         42300.0      42887.157440\n",
      "3         18500.0      16825.113297\n",
      "4         10900.0      11382.355690\n",
      "5         41300.0      37764.781952\n",
      "6         38700.0      42829.227448\n",
      "7         23800.0      17735.456467\n",
      "8         24400.0      21774.179459\n",
      "9         50000.0      49300.884247\n",
      "10        21200.0      19335.523605\n",
      "11        21700.0      19938.844681\n",
      "12        21400.0      22695.222855\n",
      "13         7200.0      13672.867775\n",
      "14        20300.0      21249.742508\n",
      "15        22600.0      21082.635880\n",
      "16        21200.0      22712.125778\n",
      "17        18400.0      16243.204117\n",
      "18        15200.0      18329.393387\n",
      "19        50000.0      34580.669403\n",
      "20        23200.0      14433.699608\n",
      "21        14500.0      16197.290421\n",
      "22        14600.0      17403.944016\n",
      "23        21100.0      20626.806259\n",
      "24        18400.0      14210.900307\n",
      "25        24300.0      28746.217728\n",
      "26        19900.0      18944.318771\n",
      "27        33100.0      34751.735687\n",
      "28        21900.0      18097.272873\n",
      "29        10400.0      16986.440659\n",
      "30        35400.0      34682.224274\n",
      "31        23900.0      24105.901718\n",
      "32        22500.0      23585.916519\n",
      "33        22500.0      18406.034470\n",
      "34        24700.0      23044.977188\n",
      "35         8400.0       8357.304573\n",
      "36        34900.0      30385.927200\n",
      "37        15000.0      22717.035294\n",
      "38        21200.0      17452.936172\n",
      "39        50000.0      47252.071381\n",
      "40         9600.0      10527.064323\n",
      "41        20000.0      21860.628128\n",
      "42        19900.0      17956.888199\n",
      "43        22000.0      25222.089767\n",
      "44        23100.0      20375.505447\n",
      "45        12600.0      14695.254326\n",
      "46        13400.0       8415.898323\n",
      "47        14100.0      16354.154587\n",
      "48        17800.0      14830.260277\n",
      "49         8500.0       7227.308750\n",
      "50        17100.0      12190.863609\n"
     ]
    }
   ],
   "source": [
    "#Converting predictions from tensor objects into a list\n",
    "y_pred_test = model(x_test)\n",
    "y_pred_test = [y_pred_test[x].item() for x in range(len(y_pred_test))]\n",
    "\n",
    "# Comparing Actual and predicted values\n",
    "df = {}\n",
    "df['Actual Prices'] = np.multiply(y_test,1000)\n",
    "df['Predicted Prices'] = np.multiply(y_pred_test,1000) \n",
    "df = pd.DataFrame(df)\n",
    "print(df)"
   ]
  },
  {
   "cell_type": "markdown",
   "metadata": {},
   "source": [
    "### Validate model\n",
    "\n",
    "Finally, predict MEDV values using data in the testing set and compare MAE of predicted values with mean of all house prices:"
   ]
  },
  {
   "cell_type": "code",
   "execution_count": 52,
   "metadata": {},
   "outputs": [
    {
     "name": "stdout",
     "output_type": "stream",
     "text": [
      "We are off on average by 2936.28 US dollars, while the mean price of a house in the dataset is 22684.31.\n"
     ]
    }
   ],
   "source": [
    "# Let's check how much we are off on average\n",
    "# y_pred = model(df_to_tensor(norm(train)))\n",
    "mae = mean_absolute_error(df['Actual Prices'], df['Predicted Prices'])\n",
    "\n",
    "print(f\"We are off on average by {round(mae, 2)} US dollars, while the mean price of a house in the dataset is {round(test_targets.mean()*1000, 2)}.\")"
   ]
  },
  {
   "cell_type": "markdown",
   "metadata": {},
   "source": [
    "Visualization of predicted values compared to real ones from test set"
   ]
  },
  {
   "cell_type": "code",
   "execution_count": null,
   "metadata": {},
   "outputs": [],
   "source": [
    "prediction_1d = y_pred_test.flatten()\n",
    "\n",
    "a = plt.axes(aspect='equal')\n",
    "plt.scatter(test_labels, prediction_1d)\n",
    "plt.xlabel('True Values [MEDV]')\n",
    "plt.ylabel('Predictions [MEDV]')\n",
    "lims = [0, 50]\n",
    "plt.xlim(lims)\n",
    "plt.ylim(lims)\n",
    "_ = plt.plot(lims, lims)"
   ]
  },
  {
   "cell_type": "markdown",
   "metadata": {},
   "source": [
    "Visualization of many predictions were off by prediciton error"
   ]
  },
  {
   "cell_type": "code",
   "execution_count": null,
   "metadata": {},
   "outputs": [],
   "source": [
    "error = prediction_1d - test_labels\n",
    "plt.hist(error, bins = 25)\n",
    "plt.xlabel(\"Prediction Error [MEDV]\")\n",
    "_ = plt.ylabel(\"Count\")"
   ]
  }
 ],
 "metadata": {
  "interpreter": {
   "hash": "4ce59b6d31133f7aa75d4ab986bdec65f5800a5363b5ecfd4fc1f33310130e3d"
  },
  "kernelspec": {
   "display_name": "Python 3.10.3 64-bit (windows store)",
   "language": "python",
   "name": "python3"
  },
  "language_info": {
   "codemirror_mode": {
    "name": "ipython",
    "version": 3
   },
   "file_extension": ".py",
   "mimetype": "text/x-python",
   "name": "python",
   "nbconvert_exporter": "python",
   "pygments_lexer": "ipython3",
   "version": "3.7.3"
  },
  "orig_nbformat": 4
 },
 "nbformat": 4,
 "nbformat_minor": 2
}
